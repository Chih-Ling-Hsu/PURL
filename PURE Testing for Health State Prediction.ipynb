{
 "cells": [
  {
   "cell_type": "markdown",
   "metadata": {},
   "source": [
    "# PURE\n",
    "\n",
    "Periodic User Representation Extraction"
   ]
  },
  {
   "cell_type": "code",
   "execution_count": 1,
   "metadata": {
    "ExecuteTime": {
     "end_time": "2019-04-21T12:27:45.996466Z",
     "start_time": "2019-04-21T12:27:45.059736Z"
    }
   },
   "outputs": [],
   "source": [
    "from pure import *"
   ]
  },
  {
   "cell_type": "markdown",
   "metadata": {},
   "source": [
    "# Data Preparation"
   ]
  },
  {
   "cell_type": "markdown",
   "metadata": {},
   "source": [
    "## Load Data & Info"
   ]
  },
  {
   "cell_type": "code",
   "execution_count": 21,
   "metadata": {
    "ExecuteTime": {
     "end_time": "2019-04-20T02:04:36.967315Z",
     "start_time": "2019-04-20T02:04:36.014948Z"
    }
   },
   "outputs": [],
   "source": [
    "df_2017 = pd.read_csv('info/active_users.2017.csv', index_col=False, parse_dates=['exerciseDate', 'startTime'])\n",
    "df_2018 = pd.read_csv('info/active_users.2018.csv', index_col=False, parse_dates=['exerciseDate', 'startTime'])"
   ]
  },
  {
   "cell_type": "code",
   "execution_count": 22,
   "metadata": {
    "ExecuteTime": {
     "end_time": "2019-04-20T02:04:36.982762Z",
     "start_time": "2019-04-20T02:04:36.969299Z"
    }
   },
   "outputs": [],
   "source": [
    "df = pd.concat([df_2017, df_2018])"
   ]
  },
  {
   "cell_type": "code",
   "execution_count": 23,
   "metadata": {
    "ExecuteTime": {
     "end_time": "2019-04-20T02:04:37.098812Z",
     "start_time": "2019-04-20T02:04:36.984852Z"
    }
   },
   "outputs": [
    {
     "name": "stdout",
     "output_type": "stream",
     "text": [
      "385846 samples\n",
      "1160 distinct users\n"
     ]
    }
   ],
   "source": [
    "print('{} samples'.format(len(df)))\n",
    "print('{} distinct users'.format(len(df['userId'].unique())))"
   ]
  },
  {
   "cell_type": "code",
   "execution_count": 24,
   "metadata": {
    "ExecuteTime": {
     "end_time": "2019-04-20T02:04:37.198499Z",
     "start_time": "2019-04-20T02:04:37.101598Z"
    }
   },
   "outputs": [],
   "source": [
    "with open('info/samples.health_state_prediction.test.json', 'r') as f:\n",
    "    select_context = json.load(f)"
   ]
  },
  {
   "cell_type": "markdown",
   "metadata": {},
   "source": [
    "## Select Data"
   ]
  },
  {
   "cell_type": "code",
   "execution_count": 25,
   "metadata": {
    "ExecuteTime": {
     "end_time": "2019-04-20T02:04:39.379571Z",
     "start_time": "2019-04-20T02:04:37.200222Z"
    }
   },
   "outputs": [],
   "source": [
    "df['valid'] = [((str(u) in select_context) and (str(d)[:7] in select_context[str(u)])) \\\n",
    "               for u,d in zip(df['userId'], df['exerciseDate'])]"
   ]
  },
  {
   "cell_type": "code",
   "execution_count": 26,
   "metadata": {
    "ExecuteTime": {
     "end_time": "2019-04-20T02:04:39.389458Z",
     "start_time": "2019-04-20T02:04:39.381184Z"
    }
   },
   "outputs": [
    {
     "data": {
      "text/plain": [
       "False    381445\n",
       "True       4401\n",
       "Name: valid, dtype: int64"
      ]
     },
     "execution_count": 26,
     "metadata": {},
     "output_type": "execute_result"
    }
   ],
   "source": [
    "df['valid'].value_counts()"
   ]
  },
  {
   "cell_type": "code",
   "execution_count": 27,
   "metadata": {
    "ExecuteTime": {
     "end_time": "2019-04-20T02:04:39.479968Z",
     "start_time": "2019-04-20T02:04:39.390959Z"
    }
   },
   "outputs": [],
   "source": [
    "df = df[df['valid'] == True]"
   ]
  },
  {
   "cell_type": "markdown",
   "metadata": {},
   "source": [
    "## Refine Data"
   ]
  },
  {
   "cell_type": "code",
   "execution_count": 28,
   "metadata": {
    "ExecuteTime": {
     "end_time": "2019-04-20T02:04:39.622785Z",
     "start_time": "2019-04-20T02:04:39.482066Z"
    }
   },
   "outputs": [
    {
     "data": {
      "text/plain": [
       "exerciseID         0\n",
       "userId             0\n",
       "exerciseClassId    0\n",
       "velocity           3\n",
       "duration           0\n",
       "distance           0\n",
       "calorie            0\n",
       "startTime          0\n",
       "exerciseDate       0\n",
       "valid              0\n",
       "dtype: int64"
      ]
     },
     "execution_count": 28,
     "metadata": {},
     "output_type": "execute_result"
    }
   ],
   "source": [
    "df.isnull().sum()"
   ]
  },
  {
   "cell_type": "code",
   "execution_count": 29,
   "metadata": {
    "ExecuteTime": {
     "end_time": "2019-04-20T02:04:39.721004Z",
     "start_time": "2019-04-20T02:04:39.626056Z"
    }
   },
   "outputs": [
    {
     "name": "stdout",
     "output_type": "stream",
     "text": [
      "4401 samples\n"
     ]
    }
   ],
   "source": [
    "df = df.dropna(subset=['startTime', 'exerciseDate'])\n",
    "print('{} samples'.format(len(df)))"
   ]
  },
  {
   "cell_type": "code",
   "execution_count": 30,
   "metadata": {
    "ExecuteTime": {
     "end_time": "2019-04-20T02:04:39.865727Z",
     "start_time": "2019-04-20T02:04:39.723039Z"
    }
   },
   "outputs": [],
   "source": [
    "def prepare_data(df):\n",
    "    time_list = ['morning', 'afternoon', 'evening', 'night']\n",
    "    time_dic = [time_list[3]]*6 + [time_list[0]]*6 + [time_list[1]]*6 + [time_list[2]]*6\n",
    "    \n",
    "    df['exerciseDate'] = [datetime(dt.year, dt.month, dt.day) for dt in df['startTime']]\n",
    "    df['exerciseTime'] = [time_dic[x.hour] for x in df['startTime']]\n",
    "    df['isExercise'] = [1 for x in df['startTime']]\n",
    "    df['weekday'] = [x.weekday() for x in df['exerciseDate']]\n",
    "    df['distance'] = df['distance'].fillna(value=0)\n",
    "    df['exerciseClassId'] = list(map(lambda x: x if x!=11 else None, df['exerciseClassId']))\n",
    "    return df"
   ]
  },
  {
   "cell_type": "code",
   "execution_count": 31,
   "metadata": {
    "ExecuteTime": {
     "end_time": "2019-04-20T02:04:40.063050Z",
     "start_time": "2019-04-20T02:04:39.867574Z"
    }
   },
   "outputs": [],
   "source": [
    "df = prepare_data(df)"
   ]
  },
  {
   "cell_type": "markdown",
   "metadata": {},
   "source": [
    "## Save Data"
   ]
  },
  {
   "cell_type": "code",
   "execution_count": 32,
   "metadata": {
    "ExecuteTime": {
     "end_time": "2019-04-20T02:04:40.214162Z",
     "start_time": "2019-04-20T02:04:40.065087Z"
    }
   },
   "outputs": [],
   "source": [
    "df.to_csv('health_state_prediction/saved/exercise_info.test.csv', index=False)"
   ]
  },
  {
   "cell_type": "markdown",
   "metadata": {},
   "source": [
    "# Testing Process"
   ]
  },
  {
   "cell_type": "markdown",
   "metadata": {},
   "source": [
    "## 0. Load Data"
   ]
  },
  {
   "cell_type": "code",
   "execution_count": 33,
   "metadata": {
    "ExecuteTime": {
     "end_time": "2019-04-20T02:04:47.158247Z",
     "start_time": "2019-04-20T02:04:47.126538Z"
    }
   },
   "outputs": [],
   "source": [
    "exercise_records = pd.read_csv('health_state_prediction/saved/exercise_info.test.csv', parse_dates=['exerciseDate', 'startTime'])"
   ]
  },
  {
   "cell_type": "code",
   "execution_count": 34,
   "metadata": {
    "ExecuteTime": {
     "end_time": "2019-04-20T02:04:47.291432Z",
     "start_time": "2019-04-20T02:04:47.283089Z"
    }
   },
   "outputs": [
    {
     "data": {
      "text/plain": [
       "(43, 4401)"
      ]
     },
     "execution_count": 34,
     "metadata": {},
     "output_type": "execute_result"
    }
   ],
   "source": [
    "user_list = exercise_records['userId'].unique().tolist()\n",
    "len(user_list), len(exercise_records)"
   ]
  },
  {
   "cell_type": "code",
   "execution_count": 35,
   "metadata": {
    "ExecuteTime": {
     "end_time": "2019-04-20T02:04:47.438881Z",
     "start_time": "2019-04-20T02:04:47.427869Z"
    }
   },
   "outputs": [
    {
     "data": {
      "text/plain": [
       "exerciseID          0\n",
       "userId              0\n",
       "exerciseClassId    10\n",
       "velocity            3\n",
       "duration            0\n",
       "distance            0\n",
       "calorie             0\n",
       "startTime           0\n",
       "exerciseDate        0\n",
       "valid               0\n",
       "exerciseTime        0\n",
       "isExercise          0\n",
       "weekday             0\n",
       "dtype: int64"
      ]
     },
     "execution_count": 35,
     "metadata": {},
     "output_type": "execute_result"
    }
   ],
   "source": [
    "exercise_records.isnull().sum()"
   ]
  },
  {
   "cell_type": "code",
   "execution_count": 36,
   "metadata": {
    "ExecuteTime": {
     "end_time": "2019-04-20T02:04:47.580491Z",
     "start_time": "2019-04-20T02:04:47.564548Z"
    }
   },
   "outputs": [
    {
     "data": {
      "text/html": [
       "<div>\n",
       "<style scoped>\n",
       "    .dataframe tbody tr th:only-of-type {\n",
       "        vertical-align: middle;\n",
       "    }\n",
       "\n",
       "    .dataframe tbody tr th {\n",
       "        vertical-align: top;\n",
       "    }\n",
       "\n",
       "    .dataframe thead th {\n",
       "        text-align: right;\n",
       "    }\n",
       "</style>\n",
       "<table border=\"1\" class=\"dataframe\">\n",
       "  <thead>\n",
       "    <tr style=\"text-align: right;\">\n",
       "      <th></th>\n",
       "      <th>exerciseID</th>\n",
       "      <th>userId</th>\n",
       "      <th>exerciseClassId</th>\n",
       "      <th>velocity</th>\n",
       "      <th>duration</th>\n",
       "      <th>distance</th>\n",
       "      <th>calorie</th>\n",
       "      <th>startTime</th>\n",
       "      <th>exerciseDate</th>\n",
       "      <th>valid</th>\n",
       "      <th>exerciseTime</th>\n",
       "      <th>isExercise</th>\n",
       "      <th>weekday</th>\n",
       "    </tr>\n",
       "  </thead>\n",
       "  <tbody>\n",
       "    <tr>\n",
       "      <th>0</th>\n",
       "      <td>685016</td>\n",
       "      <td>28660</td>\n",
       "      <td>2.0</td>\n",
       "      <td>10.1</td>\n",
       "      <td>2893</td>\n",
       "      <td>8.101</td>\n",
       "      <td>532</td>\n",
       "      <td>2017-06-05 07:23:18</td>\n",
       "      <td>2017-06-05</td>\n",
       "      <td>True</td>\n",
       "      <td>morning</td>\n",
       "      <td>1</td>\n",
       "      <td>0</td>\n",
       "    </tr>\n",
       "    <tr>\n",
       "      <th>1</th>\n",
       "      <td>685435</td>\n",
       "      <td>28660</td>\n",
       "      <td>2.0</td>\n",
       "      <td>7.7</td>\n",
       "      <td>4524</td>\n",
       "      <td>9.708</td>\n",
       "      <td>802</td>\n",
       "      <td>2017-06-05 17:36:00</td>\n",
       "      <td>2017-06-05</td>\n",
       "      <td>True</td>\n",
       "      <td>afternoon</td>\n",
       "      <td>1</td>\n",
       "      <td>0</td>\n",
       "    </tr>\n",
       "    <tr>\n",
       "      <th>2</th>\n",
       "      <td>687036</td>\n",
       "      <td>28660</td>\n",
       "      <td>2.0</td>\n",
       "      <td>10.4</td>\n",
       "      <td>2858</td>\n",
       "      <td>8.272</td>\n",
       "      <td>481</td>\n",
       "      <td>2017-06-07 07:43:32</td>\n",
       "      <td>2017-06-07</td>\n",
       "      <td>True</td>\n",
       "      <td>morning</td>\n",
       "      <td>1</td>\n",
       "      <td>2</td>\n",
       "    </tr>\n",
       "  </tbody>\n",
       "</table>\n",
       "</div>"
      ],
      "text/plain": [
       "   exerciseID  userId  exerciseClassId  velocity  duration  distance  calorie  \\\n",
       "0      685016   28660              2.0      10.1      2893     8.101      532   \n",
       "1      685435   28660              2.0       7.7      4524     9.708      802   \n",
       "2      687036   28660              2.0      10.4      2858     8.272      481   \n",
       "\n",
       "            startTime exerciseDate  valid exerciseTime  isExercise  weekday  \n",
       "0 2017-06-05 07:23:18   2017-06-05   True      morning           1        0  \n",
       "1 2017-06-05 17:36:00   2017-06-05   True    afternoon           1        0  \n",
       "2 2017-06-07 07:43:32   2017-06-07   True      morning           1        2  "
      ]
     },
     "execution_count": 36,
     "metadata": {},
     "output_type": "execute_result"
    }
   ],
   "source": [
    "exercise_records.head(3)"
   ]
  },
  {
   "cell_type": "markdown",
   "metadata": {},
   "source": [
    "## 0. Load Module"
   ]
  },
  {
   "cell_type": "code",
   "execution_count": 2,
   "metadata": {
    "ExecuteTime": {
     "end_time": "2019-04-21T12:27:49.013345Z",
     "start_time": "2019-04-21T12:27:49.000071Z"
    }
   },
   "outputs": [],
   "source": [
    "with open('health_state_prediction/saved/PURE.pkl', 'rb') as f:\n",
    "    uem = pkl.load(f)"
   ]
  },
  {
   "cell_type": "code",
   "execution_count": 3,
   "metadata": {
    "ExecuteTime": {
     "end_time": "2019-04-21T12:27:49.157199Z",
     "start_time": "2019-04-21T12:27:49.153950Z"
    }
   },
   "outputs": [],
   "source": [
    "uem.set_mode('test')"
   ]
  },
  {
   "cell_type": "markdown",
   "metadata": {},
   "source": [
    "## 1. Transaction Construction"
   ]
  },
  {
   "cell_type": "markdown",
   "metadata": {},
   "source": [
    "Discretization and preprocessing for preparing exercise records"
   ]
  },
  {
   "cell_type": "code",
   "execution_count": 39,
   "metadata": {
    "ExecuteTime": {
     "end_time": "2019-04-20T02:04:49.075973Z",
     "start_time": "2019-04-20T02:04:49.018559Z"
    },
    "deletable": false,
    "editable": false,
    "run_control": {
     "frozen": true
    }
   },
   "outputs": [],
   "source": [
    "exercise_records = uem.preprocess_exercise_records(exercise_records)"
   ]
  },
  {
   "cell_type": "markdown",
   "metadata": {
    "deletable": false,
    "editable": false,
    "run_control": {
     "frozen": true
    }
   },
   "source": [
    "Convert from exercise records to exercise transactions"
   ]
  },
  {
   "cell_type": "code",
   "execution_count": 40,
   "metadata": {
    "ExecuteTime": {
     "end_time": "2019-04-20T02:04:51.076339Z",
     "start_time": "2019-04-20T02:04:49.902408Z"
    },
    "deletable": false,
    "editable": false,
    "run_control": {
     "frozen": true
    }
   },
   "outputs": [
    {
     "name": "stderr",
     "output_type": "stream",
     "text": [
      "Processing user 26298    : 100%|██████████| 43/43 [00:01<00:00, 39.31it/s]\n"
     ]
    }
   ],
   "source": [
    "exercise_transactions = uem.construct_exercise_transactions(user_list, exercise_records, \n",
    "                                                            output_path='health_state_prediction/data/input/')"
   ]
  },
  {
   "cell_type": "code",
   "execution_count": 41,
   "metadata": {
    "ExecuteTime": {
     "end_time": "2019-04-20T02:04:51.388908Z",
     "start_time": "2019-04-20T02:04:51.382521Z"
    },
    "deletable": false,
    "editable": false,
    "run_control": {
     "frozen": true
    }
   },
   "outputs": [],
   "source": [
    "import json\n",
    "with open('health_state_prediction/saved/exercise_transactions.test.json', 'w') as f:\n",
    "    json.dump(exercise_transactions, f)"
   ]
  },
  {
   "cell_type": "markdown",
   "metadata": {
    "deletable": false,
    "editable": false,
    "run_control": {
     "frozen": true
    }
   },
   "source": [
    "## 2. Pattern Extraction"
   ]
  },
  {
   "cell_type": "markdown",
   "metadata": {
    "deletable": false,
    "editable": false,
    "run_control": {
     "frozen": true
    }
   },
   "source": [
    "Mining Periodic Frequent Patterns using the PFPM algorithm"
   ]
  },
  {
   "cell_type": "code",
   "execution_count": 42,
   "metadata": {
    "ExecuteTime": {
     "end_time": "2019-04-20T02:04:52.222098Z",
     "start_time": "2019-04-20T02:04:52.218326Z"
    }
   },
   "outputs": [],
   "source": [
    "import json\n",
    "with open('health_state_prediction/saved/exercise_transactions.test.json', 'r') as f:\n",
    "    exercise_transactions = json.load(f)"
   ]
  },
  {
   "cell_type": "code",
   "execution_count": 43,
   "metadata": {
    "ExecuteTime": {
     "end_time": "2019-04-20T02:05:22.751084Z",
     "start_time": "2019-04-20T02:04:52.384519Z"
    },
    "deletable": false,
    "editable": false,
    "run_control": {
     "frozen": true
    }
   },
   "outputs": [
    {
     "name": "stderr",
     "output_type": "stream",
     "text": [
      "Processing file health_state_prediction/data/input/26298.2018-04.txt : 100%|██████████| 144/144 [00:30<00:00,  4.68it/s]\n"
     ]
    }
   ],
   "source": [
    "exercise_patterns = uem.extract_exercise_patterns(exercise_transactions, \n",
    "                                                  output_path='health_state_prediction/data/output/', \n",
    "                                                  file_size_limit=10*10**9, \n",
    "                                                  args={'minper':0, 'maxper':10, 'minavgper':0, 'maxavgper':7})"
   ]
  },
  {
   "cell_type": "code",
   "execution_count": 44,
   "metadata": {
    "ExecuteTime": {
     "end_time": "2019-04-20T02:05:22.759751Z",
     "start_time": "2019-04-20T02:05:22.754060Z"
    },
    "deletable": false,
    "editable": false,
    "run_control": {
     "frozen": true
    }
   },
   "outputs": [],
   "source": [
    "import json\n",
    "with open('health_state_prediction/saved/exercise_patterns.test.json', 'w') as f:\n",
    "    json.dump(exercise_patterns, f)"
   ]
  },
  {
   "cell_type": "markdown",
   "metadata": {},
   "source": [
    "## 3. Pattern Clustering"
   ]
  },
  {
   "cell_type": "code",
   "execution_count": 4,
   "metadata": {
    "ExecuteTime": {
     "end_time": "2019-04-21T12:27:54.487937Z",
     "start_time": "2019-04-21T12:27:54.483061Z"
    }
   },
   "outputs": [],
   "source": [
    "import json\n",
    "with open('health_state_prediction/saved/exercise_patterns.test.json', 'r') as f:\n",
    "    exercise_patterns = json.load(f)"
   ]
  },
  {
   "cell_type": "markdown",
   "metadata": {},
   "source": [
    "**Step 1.** Generate pattern vectors"
   ]
  },
  {
   "cell_type": "code",
   "execution_count": 5,
   "metadata": {
    "ExecuteTime": {
     "end_time": "2019-04-21T12:27:55.150172Z",
     "start_time": "2019-04-21T12:27:55.102453Z"
    }
   },
   "outputs": [
    {
     "name": "stderr",
     "output_type": "stream",
     "text": [
      "Processing file health_state_prediction/data/output/26298.2018-04.txt : 100%|██████████| 144/144 [00:00<00:00, 3771.64it/s]\n"
     ]
    }
   ],
   "source": [
    "info, pattern_vectors = uem.prepare_pattern_vectors(exercise_patterns, ret_info=True)"
   ]
  },
  {
   "cell_type": "markdown",
   "metadata": {},
   "source": [
    "_Save raw exercise patterns..._"
   ]
  },
  {
   "cell_type": "code",
   "execution_count": 6,
   "metadata": {
    "ExecuteTime": {
     "end_time": "2019-04-21T12:28:11.346297Z",
     "start_time": "2019-04-21T12:27:59.036380Z"
    }
   },
   "outputs": [],
   "source": [
    "info = info[['userID', 'time_window']]\n",
    "for i in range(uem.pattern_idxer.size):\n",
    "    info['pattern_{}'.format(i)] = [ptn[i] for ptn in pattern_vectors]\n",
    "info.to_csv('health_state_prediction/data/exercise_patterns.test.csv', index=False)"
   ]
  },
  {
   "cell_type": "markdown",
   "metadata": {},
   "source": [
    "**Step 2. & 3.** Calculate user representationis"
   ]
  },
  {
   "cell_type": "code",
   "execution_count": 46,
   "metadata": {
    "ExecuteTime": {
     "end_time": "2019-04-20T02:05:24.360711Z",
     "start_time": "2019-04-20T02:05:22.933356Z"
    },
    "scrolled": true
   },
   "outputs": [
    {
     "name": "stderr",
     "output_type": "stream",
     "text": [
      "Processing file health_state_prediction/data/output/26298.2018-04.txt : 100%|██████████| 144/144 [00:00<00:00, 4744.02it/s]\n"
     ]
    },
    {
     "name": "stdout",
     "output_type": "stream",
     "text": [
      "<class 'pandas.core.frame.DataFrame'>\n",
      "RangeIndex: 142 entries, 0 to 141\n",
      "Data columns (total 55 columns):\n",
      "userID              142 non-null object\n",
      "time_window         142 non-null object\n",
      "periodicity_min     142 non-null float64\n",
      "periodicity_max     142 non-null float64\n",
      "periodicity_mean    142 non-null float64\n",
      "cluster_0           142 non-null float64\n",
      "cluster_1           142 non-null float64\n",
      "cluster_2           142 non-null float64\n",
      "cluster_3           142 non-null float64\n",
      "cluster_4           142 non-null float64\n",
      "cluster_5           142 non-null float64\n",
      "cluster_6           142 non-null float64\n",
      "cluster_7           142 non-null float64\n",
      "cluster_8           142 non-null float64\n",
      "cluster_9           142 non-null float64\n",
      "cluster_10          142 non-null float64\n",
      "cluster_11          142 non-null float64\n",
      "cluster_12          142 non-null float64\n",
      "cluster_13          142 non-null float64\n",
      "cluster_14          142 non-null float64\n",
      "cluster_15          142 non-null float64\n",
      "cluster_16          142 non-null float64\n",
      "cluster_17          142 non-null float64\n",
      "cluster_18          142 non-null float64\n",
      "cluster_19          142 non-null float64\n",
      "cluster_20          142 non-null float64\n",
      "cluster_21          142 non-null float64\n",
      "cluster_22          142 non-null float64\n",
      "cluster_23          142 non-null float64\n",
      "cluster_24          142 non-null float64\n",
      "cluster_25          142 non-null float64\n",
      "cluster_26          142 non-null float64\n",
      "cluster_27          142 non-null float64\n",
      "cluster_28          142 non-null float64\n",
      "cluster_29          142 non-null float64\n",
      "cluster_30          142 non-null float64\n",
      "cluster_31          142 non-null float64\n",
      "cluster_32          142 non-null float64\n",
      "cluster_33          142 non-null float64\n",
      "cluster_34          142 non-null float64\n",
      "cluster_35          142 non-null float64\n",
      "cluster_36          142 non-null float64\n",
      "cluster_37          142 non-null float64\n",
      "cluster_38          142 non-null float64\n",
      "cluster_39          142 non-null float64\n",
      "cluster_40          142 non-null float64\n",
      "cluster_41          142 non-null float64\n",
      "cluster_42          142 non-null float64\n",
      "cluster_43          142 non-null float64\n",
      "cluster_44          142 non-null float64\n",
      "cluster_45          142 non-null float64\n",
      "cluster_46          142 non-null float64\n",
      "cluster_47          142 non-null float64\n",
      "cluster_48          142 non-null float64\n",
      "cluster_49          142 non-null float64\n",
      "dtypes: float64(53), object(2)\n",
      "memory usage: 61.1+ KB\n"
     ]
    }
   ],
   "source": [
    "result = uem.get_user_representations(exercise_patterns)\n",
    "result.info()"
   ]
  },
  {
   "cell_type": "markdown",
   "metadata": {},
   "source": [
    "_Save user representations..._"
   ]
  },
  {
   "cell_type": "code",
   "execution_count": 47,
   "metadata": {
    "ExecuteTime": {
     "end_time": "2019-04-20T02:05:24.386699Z",
     "start_time": "2019-04-20T02:05:24.363044Z"
    }
   },
   "outputs": [
    {
     "data": {
      "text/html": [
       "<div>\n",
       "<style scoped>\n",
       "    .dataframe tbody tr th:only-of-type {\n",
       "        vertical-align: middle;\n",
       "    }\n",
       "\n",
       "    .dataframe tbody tr th {\n",
       "        vertical-align: top;\n",
       "    }\n",
       "\n",
       "    .dataframe thead th {\n",
       "        text-align: right;\n",
       "    }\n",
       "</style>\n",
       "<table border=\"1\" class=\"dataframe\">\n",
       "  <thead>\n",
       "    <tr style=\"text-align: right;\">\n",
       "      <th></th>\n",
       "      <th>userID</th>\n",
       "      <th>time_window</th>\n",
       "      <th>periodicity_min</th>\n",
       "      <th>periodicity_max</th>\n",
       "      <th>periodicity_mean</th>\n",
       "      <th>cluster_0</th>\n",
       "      <th>cluster_1</th>\n",
       "      <th>cluster_2</th>\n",
       "      <th>cluster_3</th>\n",
       "      <th>cluster_4</th>\n",
       "      <th>...</th>\n",
       "      <th>cluster_40</th>\n",
       "      <th>cluster_41</th>\n",
       "      <th>cluster_42</th>\n",
       "      <th>cluster_43</th>\n",
       "      <th>cluster_44</th>\n",
       "      <th>cluster_45</th>\n",
       "      <th>cluster_46</th>\n",
       "      <th>cluster_47</th>\n",
       "      <th>cluster_48</th>\n",
       "      <th>cluster_49</th>\n",
       "    </tr>\n",
       "  </thead>\n",
       "  <tbody>\n",
       "    <tr>\n",
       "      <th>0</th>\n",
       "      <td>28660</td>\n",
       "      <td>2017-06</td>\n",
       "      <td>1.625000</td>\n",
       "      <td>5.200000</td>\n",
       "      <td>2.971604</td>\n",
       "      <td>0.100</td>\n",
       "      <td>0.049412</td>\n",
       "      <td>0.067303</td>\n",
       "      <td>0.049736</td>\n",
       "      <td>0.051573</td>\n",
       "      <td>...</td>\n",
       "      <td>0.030303</td>\n",
       "      <td>0.025546</td>\n",
       "      <td>0.012927</td>\n",
       "      <td>0.022402</td>\n",
       "      <td>0.035991</td>\n",
       "      <td>0.026526</td>\n",
       "      <td>0.023148</td>\n",
       "      <td>0.024257</td>\n",
       "      <td>0.20</td>\n",
       "      <td>0.100</td>\n",
       "    </tr>\n",
       "    <tr>\n",
       "      <th>1</th>\n",
       "      <td>28660</td>\n",
       "      <td>2017-07</td>\n",
       "      <td>1.631579</td>\n",
       "      <td>5.166667</td>\n",
       "      <td>3.096704</td>\n",
       "      <td>0.125</td>\n",
       "      <td>0.024706</td>\n",
       "      <td>0.033651</td>\n",
       "      <td>0.024868</td>\n",
       "      <td>0.025319</td>\n",
       "      <td>...</td>\n",
       "      <td>0.015152</td>\n",
       "      <td>0.021770</td>\n",
       "      <td>0.013101</td>\n",
       "      <td>0.021541</td>\n",
       "      <td>0.021121</td>\n",
       "      <td>0.027407</td>\n",
       "      <td>0.023810</td>\n",
       "      <td>0.022322</td>\n",
       "      <td>0.25</td>\n",
       "      <td>0.125</td>\n",
       "    </tr>\n",
       "    <tr>\n",
       "      <th>2</th>\n",
       "      <td>28660</td>\n",
       "      <td>2017-08</td>\n",
       "      <td>1.240000</td>\n",
       "      <td>6.200000</td>\n",
       "      <td>3.690675</td>\n",
       "      <td>0.125</td>\n",
       "      <td>0.024706</td>\n",
       "      <td>0.033651</td>\n",
       "      <td>0.024868</td>\n",
       "      <td>0.025319</td>\n",
       "      <td>...</td>\n",
       "      <td>0.015152</td>\n",
       "      <td>0.021770</td>\n",
       "      <td>0.013101</td>\n",
       "      <td>0.021541</td>\n",
       "      <td>0.021121</td>\n",
       "      <td>0.027407</td>\n",
       "      <td>0.023810</td>\n",
       "      <td>0.022322</td>\n",
       "      <td>0.25</td>\n",
       "      <td>0.125</td>\n",
       "    </tr>\n",
       "  </tbody>\n",
       "</table>\n",
       "<p>3 rows × 55 columns</p>\n",
       "</div>"
      ],
      "text/plain": [
       "  userID time_window  periodicity_min  periodicity_max  periodicity_mean  \\\n",
       "0  28660     2017-06         1.625000         5.200000          2.971604   \n",
       "1  28660     2017-07         1.631579         5.166667          3.096704   \n",
       "2  28660     2017-08         1.240000         6.200000          3.690675   \n",
       "\n",
       "   cluster_0  cluster_1  cluster_2  cluster_3  cluster_4     ...      \\\n",
       "0      0.100   0.049412   0.067303   0.049736   0.051573     ...       \n",
       "1      0.125   0.024706   0.033651   0.024868   0.025319     ...       \n",
       "2      0.125   0.024706   0.033651   0.024868   0.025319     ...       \n",
       "\n",
       "   cluster_40  cluster_41  cluster_42  cluster_43  cluster_44  cluster_45  \\\n",
       "0    0.030303    0.025546    0.012927    0.022402    0.035991    0.026526   \n",
       "1    0.015152    0.021770    0.013101    0.021541    0.021121    0.027407   \n",
       "2    0.015152    0.021770    0.013101    0.021541    0.021121    0.027407   \n",
       "\n",
       "   cluster_46  cluster_47  cluster_48  cluster_49  \n",
       "0    0.023148    0.024257        0.20       0.100  \n",
       "1    0.023810    0.022322        0.25       0.125  \n",
       "2    0.023810    0.022322        0.25       0.125  \n",
       "\n",
       "[3 rows x 55 columns]"
      ]
     },
     "execution_count": 47,
     "metadata": {},
     "output_type": "execute_result"
    }
   ],
   "source": [
    "result.head(3)"
   ]
  },
  {
   "cell_type": "code",
   "execution_count": 48,
   "metadata": {
    "ExecuteTime": {
     "end_time": "2019-04-20T02:05:24.528544Z",
     "start_time": "2019-04-20T02:05:24.388583Z"
    }
   },
   "outputs": [],
   "source": [
    "result = result.fillna(0)\n",
    "result.to_csv('health_state_prediction/data/exercise_patterns.clusters_50.test.csv', index=False)"
   ]
  },
  {
   "cell_type": "raw",
   "metadata": {
    "ExecuteTime": {
     "end_time": "2019-04-18T03:15:31.452228Z",
     "start_time": "2019-04-18T03:15:31.443886Z"
    }
   },
   "source": [
    "cluster_oh = pd.get_dummies(result['cluster'], prefix='cluster')\n",
    "result = pd.concat([result, cluster_oh], axis=1)\n",
    "\n",
    "#for col in cluster_oh.columns:\n",
    "#    result[col] = [31.*x/p for x,p in zip(result[col], result['periodicity_min'])]"
   ]
  },
  {
   "cell_type": "code",
   "execution_count": null,
   "metadata": {},
   "outputs": [],
   "source": []
  }
 ],
 "metadata": {
  "kernelspec": {
   "display_name": "Python 3",
   "language": "python",
   "name": "python3"
  },
  "language_info": {
   "codemirror_mode": {
    "name": "ipython",
    "version": 3
   },
   "file_extension": ".py",
   "mimetype": "text/x-python",
   "name": "python",
   "nbconvert_exporter": "python",
   "pygments_lexer": "ipython3",
   "version": "3.6.4"
  }
 },
 "nbformat": 4,
 "nbformat_minor": 2
}
