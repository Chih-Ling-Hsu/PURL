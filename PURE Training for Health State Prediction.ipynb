{
 "cells": [
  {
   "cell_type": "markdown",
   "metadata": {},
   "source": [
    "# PURE\n",
    "\n",
    "Periodic User Representation Extraction"
   ]
  },
  {
   "cell_type": "code",
   "execution_count": 1,
   "metadata": {
    "ExecuteTime": {
     "end_time": "2019-04-24T06:53:44.919631Z",
     "start_time": "2019-04-24T06:53:43.945800Z"
    }
   },
   "outputs": [],
   "source": [
    "from pure import *"
   ]
  },
  {
   "cell_type": "markdown",
   "metadata": {},
   "source": [
    "# Data Preparation"
   ]
  },
  {
   "cell_type": "markdown",
   "metadata": {},
   "source": [
    "## Load Data & Info"
   ]
  },
  {
   "cell_type": "code",
   "execution_count": 15,
   "metadata": {
    "ExecuteTime": {
     "end_time": "2019-04-13T14:42:01.215826Z",
     "start_time": "2019-04-13T14:42:00.443676Z"
    }
   },
   "outputs": [],
   "source": [
    "df_2015 = pd.read_csv('info/active_users.2015.csv', index_col=False, parse_dates=['exerciseDate', 'startTime'])\n",
    "df_2016 = pd.read_csv('info/active_users.2016.csv', index_col=False, parse_dates=['exerciseDate', 'startTime'])"
   ]
  },
  {
   "cell_type": "code",
   "execution_count": 16,
   "metadata": {
    "ExecuteTime": {
     "end_time": "2019-04-13T14:42:01.229637Z",
     "start_time": "2019-04-13T14:42:01.217891Z"
    }
   },
   "outputs": [],
   "source": [
    "df = pd.concat([df_2015, df_2016])"
   ]
  },
  {
   "cell_type": "code",
   "execution_count": 17,
   "metadata": {
    "ExecuteTime": {
     "end_time": "2019-04-13T14:42:01.340956Z",
     "start_time": "2019-04-13T14:42:01.231691Z"
    }
   },
   "outputs": [
    {
     "name": "stdout",
     "output_type": "stream",
     "text": [
      "378203 samples\n",
      "1614 distinct users\n"
     ]
    }
   ],
   "source": [
    "print('{} samples'.format(len(df)))\n",
    "print('{} distinct users'.format(len(df['userId'].unique())))"
   ]
  },
  {
   "cell_type": "code",
   "execution_count": 18,
   "metadata": {
    "ExecuteTime": {
     "end_time": "2019-04-13T14:56:16.363294Z",
     "start_time": "2019-04-13T14:56:16.358280Z"
    }
   },
   "outputs": [],
   "source": [
    "with open('info/samples.health_state_prediction.train.json', 'r') as f:\n",
    "    select_context = json.load(f)"
   ]
  },
  {
   "cell_type": "markdown",
   "metadata": {},
   "source": [
    "## Select Data"
   ]
  },
  {
   "cell_type": "code",
   "execution_count": 33,
   "metadata": {
    "ExecuteTime": {
     "end_time": "2019-04-13T15:03:02.000297Z",
     "start_time": "2019-04-13T15:03:00.422754Z"
    }
   },
   "outputs": [],
   "source": [
    "df['valid'] = [((str(u) in select_context) and (str(d)[:7] in select_context[str(u)])) \\\n",
    "               for u,d in zip(df['userId'], df['exerciseDate'])]"
   ]
  },
  {
   "cell_type": "code",
   "execution_count": 34,
   "metadata": {
    "ExecuteTime": {
     "end_time": "2019-04-13T15:03:02.009814Z",
     "start_time": "2019-04-13T15:03:02.002508Z"
    }
   },
   "outputs": [
    {
     "data": {
      "text/plain": [
       "False    364966\n",
       "True      13237\n",
       "Name: valid, dtype: int64"
      ]
     },
     "execution_count": 34,
     "metadata": {},
     "output_type": "execute_result"
    }
   ],
   "source": [
    "df['valid'].value_counts()"
   ]
  },
  {
   "cell_type": "code",
   "execution_count": 35,
   "metadata": {
    "ExecuteTime": {
     "end_time": "2019-04-13T15:03:33.463513Z",
     "start_time": "2019-04-13T15:03:33.455682Z"
    }
   },
   "outputs": [],
   "source": [
    "df = df[df['valid'] == True]"
   ]
  },
  {
   "cell_type": "markdown",
   "metadata": {},
   "source": [
    "## Refine Data"
   ]
  },
  {
   "cell_type": "code",
   "execution_count": 36,
   "metadata": {
    "ExecuteTime": {
     "end_time": "2019-04-13T15:03:37.164174Z",
     "start_time": "2019-04-13T15:03:37.151686Z"
    }
   },
   "outputs": [
    {
     "data": {
      "text/plain": [
       "exerciseID         0\n",
       "userId             0\n",
       "exerciseClassId    0\n",
       "velocity           0\n",
       "duration           0\n",
       "distance           0\n",
       "calorie            0\n",
       "startTime          0\n",
       "exerciseDate       0\n",
       "valid              0\n",
       "dtype: int64"
      ]
     },
     "execution_count": 36,
     "metadata": {},
     "output_type": "execute_result"
    }
   ],
   "source": [
    "df.isnull().sum()"
   ]
  },
  {
   "cell_type": "code",
   "execution_count": 37,
   "metadata": {
    "ExecuteTime": {
     "end_time": "2019-04-13T15:03:40.795464Z",
     "start_time": "2019-04-13T15:03:40.783457Z"
    }
   },
   "outputs": [
    {
     "name": "stdout",
     "output_type": "stream",
     "text": [
      "13237 samples\n"
     ]
    }
   ],
   "source": [
    "df = df.dropna(subset=['startTime', 'exerciseDate'])\n",
    "print('{} samples'.format(len(df)))"
   ]
  },
  {
   "cell_type": "code",
   "execution_count": 9,
   "metadata": {
    "ExecuteTime": {
     "end_time": "2019-04-13T14:16:42.275126Z",
     "start_time": "2019-04-13T14:16:42.263198Z"
    }
   },
   "outputs": [],
   "source": [
    "def prepare_data(df):\n",
    "    time_list = ['morning', 'afternoon', 'evening', 'night']\n",
    "    time_dic = [time_list[3]]*6 + [time_list[0]]*6 + [time_list[1]]*6 + [time_list[2]]*6\n",
    "    \n",
    "    df['exerciseDate'] = [datetime(dt.year, dt.month, dt.day) for dt in df['startTime']]\n",
    "    df['exerciseTime'] = [time_dic[x.hour] for x in df['startTime']]\n",
    "    df['isExercise'] = [1 for x in df['startTime']]\n",
    "    df['weekday'] = [x.weekday() for x in df['exerciseDate']]\n",
    "    df['distance'] = df['distance'].fillna(value=0)\n",
    "    df['exerciseClassId'] = list(map(lambda x: x if x!=11 else None, df['exerciseClassId']))\n",
    "    return df"
   ]
  },
  {
   "cell_type": "code",
   "execution_count": 39,
   "metadata": {
    "ExecuteTime": {
     "end_time": "2019-04-13T15:04:05.420285Z",
     "start_time": "2019-04-13T15:04:05.218113Z"
    }
   },
   "outputs": [],
   "source": [
    "df = prepare_data(df)"
   ]
  },
  {
   "cell_type": "markdown",
   "metadata": {},
   "source": [
    "## Save Data"
   ]
  },
  {
   "cell_type": "code",
   "execution_count": 40,
   "metadata": {
    "ExecuteTime": {
     "end_time": "2019-04-13T15:04:07.939912Z",
     "start_time": "2019-04-13T15:04:07.792958Z"
    }
   },
   "outputs": [],
   "source": [
    "df.to_csv('health_state_prediction/saved/exercise_info.train.csv', index=False)"
   ]
  },
  {
   "cell_type": "markdown",
   "metadata": {},
   "source": [
    "# Training Process"
   ]
  },
  {
   "cell_type": "markdown",
   "metadata": {},
   "source": [
    "## 0. Load Data"
   ]
  },
  {
   "cell_type": "code",
   "execution_count": 4,
   "metadata": {
    "ExecuteTime": {
     "end_time": "2019-04-18T06:57:52.819455Z",
     "start_time": "2019-04-18T06:57:52.760780Z"
    }
   },
   "outputs": [],
   "source": [
    "exercise_records = pd.read_csv('health_state_prediction/saved/exercise_info.train.csv', \n",
    "                               parse_dates=['exerciseDate', 'startTime'])"
   ]
  },
  {
   "cell_type": "code",
   "execution_count": 5,
   "metadata": {
    "ExecuteTime": {
     "end_time": "2019-04-18T06:57:53.401680Z",
     "start_time": "2019-04-18T06:57:53.388906Z"
    }
   },
   "outputs": [
    {
     "data": {
      "text/plain": [
       "(108, 13237)"
      ]
     },
     "execution_count": 5,
     "metadata": {},
     "output_type": "execute_result"
    }
   ],
   "source": [
    "user_list = exercise_records['userId'].unique().tolist()\n",
    "len(user_list), len(exercise_records)"
   ]
  },
  {
   "cell_type": "code",
   "execution_count": 6,
   "metadata": {
    "ExecuteTime": {
     "end_time": "2019-04-18T06:57:53.590492Z",
     "start_time": "2019-04-18T06:57:53.576359Z"
    }
   },
   "outputs": [
    {
     "data": {
      "text/plain": [
       "exerciseID           0\n",
       "userId               0\n",
       "exerciseClassId    222\n",
       "velocity             0\n",
       "duration             0\n",
       "distance             0\n",
       "calorie              0\n",
       "startTime            0\n",
       "exerciseDate         0\n",
       "valid                0\n",
       "exerciseTime         0\n",
       "isExercise           0\n",
       "weekday              0\n",
       "dtype: int64"
      ]
     },
     "execution_count": 6,
     "metadata": {},
     "output_type": "execute_result"
    }
   ],
   "source": [
    "exercise_records.isnull().sum()"
   ]
  },
  {
   "cell_type": "code",
   "execution_count": 7,
   "metadata": {
    "ExecuteTime": {
     "end_time": "2019-04-18T06:57:53.826482Z",
     "start_time": "2019-04-18T06:57:53.777083Z"
    }
   },
   "outputs": [
    {
     "data": {
      "text/html": [
       "<div>\n",
       "<style scoped>\n",
       "    .dataframe tbody tr th:only-of-type {\n",
       "        vertical-align: middle;\n",
       "    }\n",
       "\n",
       "    .dataframe tbody tr th {\n",
       "        vertical-align: top;\n",
       "    }\n",
       "\n",
       "    .dataframe thead th {\n",
       "        text-align: right;\n",
       "    }\n",
       "</style>\n",
       "<table border=\"1\" class=\"dataframe\">\n",
       "  <thead>\n",
       "    <tr style=\"text-align: right;\">\n",
       "      <th></th>\n",
       "      <th>exerciseID</th>\n",
       "      <th>userId</th>\n",
       "      <th>exerciseClassId</th>\n",
       "      <th>velocity</th>\n",
       "      <th>duration</th>\n",
       "      <th>distance</th>\n",
       "      <th>calorie</th>\n",
       "      <th>startTime</th>\n",
       "      <th>exerciseDate</th>\n",
       "      <th>valid</th>\n",
       "      <th>exerciseTime</th>\n",
       "      <th>isExercise</th>\n",
       "      <th>weekday</th>\n",
       "    </tr>\n",
       "  </thead>\n",
       "  <tbody>\n",
       "    <tr>\n",
       "      <th>0</th>\n",
       "      <td>198732</td>\n",
       "      <td>10003</td>\n",
       "      <td>2.0</td>\n",
       "      <td>14.8</td>\n",
       "      <td>8880</td>\n",
       "      <td>36.5</td>\n",
       "      <td>1745</td>\n",
       "      <td>2015-11-01 10:50:39</td>\n",
       "      <td>2015-11-01</td>\n",
       "      <td>True</td>\n",
       "      <td>morning</td>\n",
       "      <td>1</td>\n",
       "      <td>6</td>\n",
       "    </tr>\n",
       "    <tr>\n",
       "      <th>1</th>\n",
       "      <td>198758</td>\n",
       "      <td>10003</td>\n",
       "      <td>9.0</td>\n",
       "      <td>0.0</td>\n",
       "      <td>847</td>\n",
       "      <td>0.0</td>\n",
       "      <td>100</td>\n",
       "      <td>2015-11-01 14:34:02</td>\n",
       "      <td>2015-11-01</td>\n",
       "      <td>True</td>\n",
       "      <td>afternoon</td>\n",
       "      <td>1</td>\n",
       "      <td>6</td>\n",
       "    </tr>\n",
       "    <tr>\n",
       "      <th>2</th>\n",
       "      <td>198771</td>\n",
       "      <td>10003</td>\n",
       "      <td>9.0</td>\n",
       "      <td>0.0</td>\n",
       "      <td>1169</td>\n",
       "      <td>0.0</td>\n",
       "      <td>95</td>\n",
       "      <td>2015-11-01 14:55:51</td>\n",
       "      <td>2015-11-01</td>\n",
       "      <td>True</td>\n",
       "      <td>afternoon</td>\n",
       "      <td>1</td>\n",
       "      <td>6</td>\n",
       "    </tr>\n",
       "  </tbody>\n",
       "</table>\n",
       "</div>"
      ],
      "text/plain": [
       "   exerciseID  userId  exerciseClassId  velocity  duration  distance  calorie  \\\n",
       "0      198732   10003              2.0      14.8      8880      36.5     1745   \n",
       "1      198758   10003              9.0       0.0       847       0.0      100   \n",
       "2      198771   10003              9.0       0.0      1169       0.0       95   \n",
       "\n",
       "            startTime exerciseDate  valid exerciseTime  isExercise  weekday  \n",
       "0 2015-11-01 10:50:39   2015-11-01   True      morning           1        6  \n",
       "1 2015-11-01 14:34:02   2015-11-01   True    afternoon           1        6  \n",
       "2 2015-11-01 14:55:51   2015-11-01   True    afternoon           1        6  "
      ]
     },
     "execution_count": 7,
     "metadata": {},
     "output_type": "execute_result"
    }
   ],
   "source": [
    "exercise_records.head(3)"
   ]
  },
  {
   "cell_type": "markdown",
   "metadata": {},
   "source": [
    "## 0. Create Module"
   ]
  },
  {
   "cell_type": "code",
   "execution_count": 10,
   "metadata": {
    "ExecuteTime": {
     "end_time": "2019-04-18T06:58:03.828547Z",
     "start_time": "2019-04-18T06:58:03.824168Z"
    }
   },
   "outputs": [],
   "source": [
    "uem = PURE(discretization_bin_count=20, pattern_mining_measure='PFPM', \n",
    "           clustering_distance_metric='jaccard', clustering_affinity='average')"
   ]
  },
  {
   "cell_type": "code",
   "execution_count": 11,
   "metadata": {
    "ExecuteTime": {
     "end_time": "2019-04-18T06:58:04.031770Z",
     "start_time": "2019-04-18T06:58:04.027754Z"
    }
   },
   "outputs": [],
   "source": [
    "uem.set_mode('train')"
   ]
  },
  {
   "cell_type": "markdown",
   "metadata": {},
   "source": [
    "## 1. Transaction Construction"
   ]
  },
  {
   "cell_type": "markdown",
   "metadata": {},
   "source": [
    "Prepare output directory"
   ]
  },
  {
   "cell_type": "code",
   "execution_count": 12,
   "metadata": {
    "ExecuteTime": {
     "end_time": "2019-04-18T06:58:05.126756Z",
     "start_time": "2019-04-18T06:58:04.873292Z"
    },
    "deletable": false,
    "editable": false,
    "run_control": {
     "frozen": true
    }
   },
   "outputs": [],
   "source": [
    "!rm -rf health_state_prediction/data/input\n",
    "!mkdir health_state_prediction/data/input"
   ]
  },
  {
   "cell_type": "markdown",
   "metadata": {
    "deletable": false,
    "editable": false,
    "run_control": {
     "frozen": true
    }
   },
   "source": [
    "Discretization and preprocessing for preparing exercise records"
   ]
  },
  {
   "cell_type": "code",
   "execution_count": 13,
   "metadata": {
    "ExecuteTime": {
     "end_time": "2019-04-18T06:58:05.406152Z",
     "start_time": "2019-04-18T06:58:05.253830Z"
    },
    "deletable": false,
    "editable": false,
    "run_control": {
     "frozen": true
    }
   },
   "outputs": [],
   "source": [
    "exercise_records = uem.preprocess_exercise_records(exercise_records)"
   ]
  },
  {
   "cell_type": "markdown",
   "metadata": {
    "deletable": false,
    "editable": false,
    "run_control": {
     "frozen": true
    }
   },
   "source": [
    "Convert from exercise records to exercise transactions"
   ]
  },
  {
   "cell_type": "code",
   "execution_count": 14,
   "metadata": {
    "ExecuteTime": {
     "end_time": "2019-04-18T06:58:08.479331Z",
     "start_time": "2019-04-18T06:58:05.659421Z"
    },
    "deletable": false,
    "editable": false,
    "run_control": {
     "frozen": true
    }
   },
   "outputs": [
    {
     "name": "stderr",
     "output_type": "stream",
     "text": [
      "Processing user 10428    : 100%|██████████| 108/108 [00:02<00:00, 40.81it/s]\n"
     ]
    }
   ],
   "source": [
    "exercise_transactions = uem.construct_exercise_transactions(user_list, exercise_records, \n",
    "                                                            output_path='health_state_prediction/data/input/')"
   ]
  },
  {
   "cell_type": "code",
   "execution_count": 12,
   "metadata": {
    "ExecuteTime": {
     "end_time": "2019-04-20T01:51:26.773383Z",
     "start_time": "2019-04-20T01:51:26.762796Z"
    },
    "deletable": false,
    "editable": false,
    "run_control": {
     "frozen": true
    }
   },
   "outputs": [],
   "source": [
    "import json\n",
    "with open('health_state_prediction/saved/exercise_transactions.json', 'w') as f:\n",
    "    json.dump(exercise_transactions, f)"
   ]
  },
  {
   "cell_type": "markdown",
   "metadata": {
    "deletable": false,
    "editable": false,
    "run_control": {
     "frozen": true
    }
   },
   "source": [
    "## 2. Pattern Extraction"
   ]
  },
  {
   "cell_type": "markdown",
   "metadata": {
    "deletable": false,
    "editable": false,
    "run_control": {
     "frozen": true
    }
   },
   "source": [
    "Prepare output directory"
   ]
  },
  {
   "cell_type": "code",
   "execution_count": 16,
   "metadata": {
    "ExecuteTime": {
     "end_time": "2019-04-18T06:58:09.072087Z",
     "start_time": "2019-04-18T06:58:08.488917Z"
    },
    "deletable": false,
    "editable": false,
    "run_control": {
     "frozen": true
    }
   },
   "outputs": [],
   "source": [
    "!rm -rf health_state_prediction/data/output\n",
    "!mkdir health_state_prediction/data/output"
   ]
  },
  {
   "cell_type": "markdown",
   "metadata": {
    "deletable": false,
    "editable": false,
    "run_control": {
     "frozen": true
    }
   },
   "source": [
    "Mining Periodic Frequent Patterns using the PFPM algorithm"
   ]
  },
  {
   "cell_type": "code",
   "execution_count": 10,
   "metadata": {
    "ExecuteTime": {
     "end_time": "2019-04-20T01:51:24.600651Z",
     "start_time": "2019-04-20T01:51:24.595381Z"
    }
   },
   "outputs": [],
   "source": [
    "import json\n",
    "with open('health_state_prediction/saved/exercise_transactions.json', 'r') as f:\n",
    "    exercise_transactions = json.load(f)"
   ]
  },
  {
   "cell_type": "code",
   "execution_count": 18,
   "metadata": {
    "ExecuteTime": {
     "end_time": "2019-04-18T07:11:23.628536Z",
     "start_time": "2019-04-18T06:58:09.082000Z"
    },
    "deletable": false,
    "editable": false,
    "run_control": {
     "frozen": true
    }
   },
   "outputs": [
    {
     "name": "stderr",
     "output_type": "stream",
     "text": [
      "Processing file data/input/10428.2016-07.txt : 100%|██████████| 433/433 [13:14<00:00,  5.04it/s]  \n"
     ]
    }
   ],
   "source": [
    "exercise_patterns = uem.extract_exercise_patterns(exercise_transactions, \n",
    "                                                  output_path='health_state_prediction/data/output/', \n",
    "                                                  file_size_limit=10*10**9, \n",
    "                                                  args={'minper':0, 'maxper':10, 'minavgper':0, 'maxavgper':7})"
   ]
  },
  {
   "cell_type": "code",
   "execution_count": 8,
   "metadata": {
    "ExecuteTime": {
     "end_time": "2019-04-20T01:50:57.815514Z",
     "start_time": "2019-04-20T01:50:57.806079Z"
    },
    "deletable": false,
    "editable": false,
    "run_control": {
     "frozen": true
    }
   },
   "outputs": [],
   "source": [
    "import json\n",
    "with open('health_state_prediction/saved/exercise_patterns.json', 'w') as f:\n",
    "    json.dump(exercise_patterns, f)"
   ]
  },
  {
   "cell_type": "markdown",
   "metadata": {},
   "source": [
    "## 3. Pattern Clustering"
   ]
  },
  {
   "cell_type": "code",
   "execution_count": 3,
   "metadata": {
    "ExecuteTime": {
     "end_time": "2019-04-24T04:38:20.742722Z",
     "start_time": "2019-04-24T04:38:20.689889Z"
    }
   },
   "outputs": [],
   "source": [
    "import json\n",
    "with open('health_state_prediction/saved/exercise_patterns.json', 'r') as f:\n",
    "    exercise_patterns = json.load(f)"
   ]
  },
  {
   "cell_type": "markdown",
   "metadata": {},
   "source": [
    "**Step 1.** Fit a pattern indexer"
   ]
  },
  {
   "cell_type": "code",
   "execution_count": 21,
   "metadata": {
    "ExecuteTime": {
     "end_time": "2019-04-18T07:11:49.529754Z",
     "start_time": "2019-04-18T07:11:23.872990Z"
    },
    "deletable": false,
    "editable": false,
    "run_control": {
     "frozen": true
    },
    "scrolled": true
   },
   "outputs": [
    {
     "name": "stderr",
     "output_type": "stream",
     "text": [
      "Processing file data/output/10003.2016-01.txt:   1%|          | 3/433 [00:00<00:15, 27.74it/s]"
     ]
    },
    {
     "name": "stdout",
     "output_type": "stream",
     "text": [
      "No such file or directory: \"data/output/10003.2016-03.txt\"\n"
     ]
    },
    {
     "name": "stderr",
     "output_type": "stream",
     "text": [
      "Processing file data/output/10428.2016-07.txt: 100%|██████████| 433/433 [00:23<00:00, 18.05it/s]\n"
     ]
    },
    {
     "name": "stdout",
     "output_type": "stream",
     "text": [
      "24102404 unique patterns are found\n",
      "24091142 patterns are removed from the white list\n"
     ]
    }
   ],
   "source": [
    "uem.fit_pattern_indexer(exercise_patterns, occur_threshold=2, is_sqlite_solver=False)"
   ]
  },
  {
   "cell_type": "markdown",
   "metadata": {},
   "source": [
    "**Step 2.** Generate pattern vectors"
   ]
  },
  {
   "cell_type": "code",
   "execution_count": 4,
   "metadata": {
    "ExecuteTime": {
     "end_time": "2019-04-24T04:39:17.683515Z",
     "start_time": "2019-04-24T04:38:24.816856Z"
    }
   },
   "outputs": [
    {
     "name": "stderr",
     "output_type": "stream",
     "text": [
      "Processing file health_state_prediction/data/output/10003.2016-01.txt :   1%|          | 3/433 [00:00<01:45,  4.08it/s]"
     ]
    },
    {
     "name": "stdout",
     "output_type": "stream",
     "text": [
      "No such file or directory: \"health_state_prediction/data/output/10003.2016-03.txt\"\n"
     ]
    },
    {
     "name": "stderr",
     "output_type": "stream",
     "text": [
      "Processing file health_state_prediction/data/output/10428.2016-07.txt : 100%|██████████| 433/433 [00:52<00:00,  8.19it/s]\n"
     ]
    }
   ],
   "source": [
    "info, pattern_vectors = uem.prepare_pattern_vectors(exercise_patterns, ret_info=True)"
   ]
  },
  {
   "cell_type": "markdown",
   "metadata": {},
   "source": [
    "_Save raw exercise patterns..._"
   ]
  },
  {
   "cell_type": "code",
   "execution_count": 21,
   "metadata": {
    "ExecuteTime": {
     "end_time": "2019-04-21T12:09:15.317888Z",
     "start_time": "2019-04-21T12:08:58.407077Z"
    }
   },
   "outputs": [
    {
     "name": "stderr",
     "output_type": "stream",
     "text": [
      "/home/amy/anaconda3/lib/python3.6/site-packages/ipykernel_launcher.py:3: SettingWithCopyWarning: \n",
      "A value is trying to be set on a copy of a slice from a DataFrame.\n",
      "Try using .loc[row_indexer,col_indexer] = value instead\n",
      "\n",
      "See the caveats in the documentation: http://pandas.pydata.org/pandas-docs/stable/indexing.html#indexing-view-versus-copy\n",
      "  This is separate from the ipykernel package so we can avoid doing imports until\n"
     ]
    }
   ],
   "source": [
    "info = info[['userID', 'time_window']]\n",
    "for i in range(uem.pattern_idxer.size):\n",
    "    info['pattern_{}'.format(i)] = [ptn[i] for ptn in pattern_vectors]\n",
    "info.to_csv('health_state_prediction/data/exercise_patterns.train.csv', index=False)"
   ]
  },
  {
   "cell_type": "markdown",
   "metadata": {
    "ExecuteTime": {
     "end_time": "2019-04-21T12:03:27.595614Z",
     "start_time": "2019-04-21T12:03:27.589965Z"
    }
   },
   "source": [
    "**Step 3.** Compute linkage matrix"
   ]
  },
  {
   "cell_type": "code",
   "execution_count": 22,
   "metadata": {
    "ExecuteTime": {
     "end_time": "2019-04-18T07:12:34.674923Z",
     "start_time": "2019-04-18T07:11:49.532002Z"
    },
    "deletable": false,
    "editable": false,
    "run_control": {
     "frozen": true
    },
    "scrolled": true
   },
   "outputs": [
    {
     "name": "stderr",
     "output_type": "stream",
     "text": [
      "Processing file data/output/10003.2016-01.txt :   1%|          | 3/433 [00:00<00:24, 17.46it/s]"
     ]
    },
    {
     "name": "stdout",
     "output_type": "stream",
     "text": [
      "No such file or directory: \"data/output/10003.2016-03.txt\"\n"
     ]
    },
    {
     "name": "stderr",
     "output_type": "stream",
     "text": [
      "Processing file data/output/10428.2016-07.txt : 100%|██████████| 433/433 [00:42<00:00, 10.29it/s]"
     ]
    },
    {
     "name": "stdout",
     "output_type": "stream",
     "text": [
      "Number of tasks: 432\n"
     ]
    },
    {
     "name": "stderr",
     "output_type": "stream",
     "text": [
      "\n",
      "[Parallel(n_jobs=-5)]: Using backend LokyBackend with 12 concurrent workers.\n",
      "[Parallel(n_jobs=-5)]: Done  59 tasks      | elapsed:    1.3s\n",
      "[Parallel(n_jobs=-5)]: Done 432 out of 432 | elapsed:    2.4s finished\n",
      "/home/amy/pure/utils/pattern_clustering.py:28: ClusterWarning: scipy.cluster: The symmetric non-negative hollow observation matrix looks suspiciously like an uncondensed distance matrix\n",
      "  self.linkage_matrix = linkage(distance_matrix, self.affinity)\n"
     ]
    },
    {
     "name": "stdout",
     "output_type": "stream",
     "text": [
      "==> Computing Linakage Matrix...\n",
      "Done.\n"
     ]
    },
    {
     "data": {
      "image/png": "[encoded data removed]",
      "text/plain": [
       "<Figure size 1800x576 with 1 Axes>"
      ]
     },
     "metadata": {
      "needs_background": "light"
     },
     "output_type": "display_data"
    }
   ],
   "source": [
    "uem.cluster_pattern_vectors(pattern_vectors, n_jobs=-5, pre_dispatch='1.5*n_jobs', temp_folder='tmp')"
   ]
  },
  {
   "cell_type": "code",
   "execution_count": 10,
   "metadata": {
    "ExecuteTime": {
     "end_time": "2019-04-24T06:58:39.552586Z",
     "start_time": "2019-04-24T06:58:39.344095Z"
    }
   },
   "outputs": [
    {
     "data": {
      "image/png": "[encoded data removed]",
      "text/plain": [
       "<Figure size 576x360 with 1 Axes>"
      ]
     },
     "metadata": {
      "needs_background": "light"
     },
     "output_type": "display_data"
    }
   ],
   "source": [
    "silhouette_avgs = uem.pclust.silhouette_avgs[:18]\n",
    "ks = range(2, 20)\n",
    "plt.figure(figsize=(8, 5))\n",
    "plt.title('PURE Clustering in health state prediction task')\n",
    "plt.xlabel('Number of clusters (K)')\n",
    "plt.ylabel('Silhouette Coefficient')\n",
    "plt.plot(ks, silhouette_avgs)\n",
    "plt.xticks(ks)\n",
    "plt.scatter(ks, silhouette_avgs)\n",
    "plt.show()"
   ]
  },
  {
   "cell_type": "markdown",
   "metadata": {},
   "source": [
    "_Save user representations..._"
   ]
  },
  {
   "cell_type": "code",
   "execution_count": 22,
   "metadata": {
    "ExecuteTime": {
     "end_time": "2019-04-21T12:25:32.531249Z",
     "start_time": "2019-04-21T12:24:47.453970Z"
    },
    "scrolled": true
   },
   "outputs": [
    {
     "name": "stderr",
     "output_type": "stream",
     "text": [
      "Processing file health_state_prediction/data/output/10003.2016-01.txt :   1%|          | 3/433 [00:00<00:51,  8.42it/s]"
     ]
    },
    {
     "name": "stdout",
     "output_type": "stream",
     "text": [
      "No such file or directory: \"health_state_prediction/data/output/10003.2016-03.txt\"\n"
     ]
    },
    {
     "name": "stderr",
     "output_type": "stream",
     "text": [
      "Processing file health_state_prediction/data/output/10428.2016-07.txt : 100%|██████████| 433/433 [00:43<00:00,  9.97it/s]\n"
     ]
    },
    {
     "name": "stdout",
     "output_type": "stream",
     "text": [
      "<class 'pandas.core.frame.DataFrame'>\n",
      "RangeIndex: 432 entries, 0 to 431\n",
      "Data columns (total 16 columns):\n",
      "userID              432 non-null object\n",
      "time_window         432 non-null object\n",
      "periodicity_min     432 non-null float64\n",
      "periodicity_max     432 non-null float64\n",
      "periodicity_mean    432 non-null float64\n",
      "cluster_0           432 non-null float64\n",
      "cluster_1           432 non-null float64\n",
      "cluster_2           432 non-null float64\n",
      "cluster_3           432 non-null float64\n",
      "cluster_4           432 non-null float64\n",
      "cluster_5           432 non-null float64\n",
      "cluster_6           432 non-null float64\n",
      "cluster_7           432 non-null float64\n",
      "cluster_8           432 non-null float64\n",
      "cluster_9           432 non-null float64\n",
      "cluster_10          432 non-null float64\n",
      "dtypes: float64(14), object(2)\n",
      "memory usage: 54.1+ KB\n"
     ]
    }
   ],
   "source": [
    "result = uem.get_user_representations(exercise_patterns, params={'threshold': 11, 'criterion':'maxclust'})\n",
    "result.info()"
   ]
  },
  {
   "cell_type": "code",
   "execution_count": 5,
   "metadata": {
    "ExecuteTime": {
     "end_time": "2019-04-18T03:38:15.444164Z",
     "start_time": "2019-04-18T03:38:15.421416Z"
    }
   },
   "outputs": [
    {
     "data": {
      "text/html": [
       "<div>\n",
       "<style scoped>\n",
       "    .dataframe tbody tr th:only-of-type {\n",
       "        vertical-align: middle;\n",
       "    }\n",
       "\n",
       "    .dataframe tbody tr th {\n",
       "        vertical-align: top;\n",
       "    }\n",
       "\n",
       "    .dataframe thead th {\n",
       "        text-align: right;\n",
       "    }\n",
       "</style>\n",
       "<table border=\"1\" class=\"dataframe\">\n",
       "  <thead>\n",
       "    <tr style=\"text-align: right;\">\n",
       "      <th></th>\n",
       "      <th>userID</th>\n",
       "      <th>time_window</th>\n",
       "      <th>periodicity_min</th>\n",
       "      <th>periodicity_max</th>\n",
       "      <th>periodicity_mean</th>\n",
       "      <th>cluster_0</th>\n",
       "      <th>cluster_1</th>\n",
       "      <th>cluster_2</th>\n",
       "      <th>cluster_3</th>\n",
       "      <th>cluster_4</th>\n",
       "      <th>cluster_5</th>\n",
       "      <th>cluster_6</th>\n",
       "      <th>cluster_7</th>\n",
       "      <th>cluster_8</th>\n",
       "      <th>cluster_9</th>\n",
       "      <th>cluster_10</th>\n",
       "    </tr>\n",
       "  </thead>\n",
       "  <tbody>\n",
       "    <tr>\n",
       "      <th>0</th>\n",
       "      <td>10003</td>\n",
       "      <td>2015-11</td>\n",
       "      <td>1.00000</td>\n",
       "      <td>5.0</td>\n",
       "      <td>3.856317</td>\n",
       "      <td>0.000422</td>\n",
       "      <td>0.001659</td>\n",
       "      <td>0.000678</td>\n",
       "      <td>0.001384</td>\n",
       "      <td>0.009694</td>\n",
       "      <td>0.041157</td>\n",
       "      <td>0.012940</td>\n",
       "      <td>0.014144</td>\n",
       "      <td>0.007565</td>\n",
       "      <td>0.000422</td>\n",
       "      <td>0.0</td>\n",
       "    </tr>\n",
       "    <tr>\n",
       "      <th>1</th>\n",
       "      <td>10003</td>\n",
       "      <td>2015-12</td>\n",
       "      <td>0.96875</td>\n",
       "      <td>3.1</td>\n",
       "      <td>1.804443</td>\n",
       "      <td>0.005291</td>\n",
       "      <td>0.012301</td>\n",
       "      <td>0.005336</td>\n",
       "      <td>0.016961</td>\n",
       "      <td>0.004192</td>\n",
       "      <td>0.011417</td>\n",
       "      <td>0.144936</td>\n",
       "      <td>0.132760</td>\n",
       "      <td>0.075577</td>\n",
       "      <td>0.005263</td>\n",
       "      <td>0.0</td>\n",
       "    </tr>\n",
       "    <tr>\n",
       "      <th>2</th>\n",
       "      <td>10003</td>\n",
       "      <td>2016-01</td>\n",
       "      <td>0.96875</td>\n",
       "      <td>6.2</td>\n",
       "      <td>4.669534</td>\n",
       "      <td>0.000362</td>\n",
       "      <td>0.002503</td>\n",
       "      <td>0.000469</td>\n",
       "      <td>0.001186</td>\n",
       "      <td>0.000355</td>\n",
       "      <td>0.044354</td>\n",
       "      <td>0.019068</td>\n",
       "      <td>0.014143</td>\n",
       "      <td>0.009389</td>\n",
       "      <td>0.000362</td>\n",
       "      <td>0.0</td>\n",
       "    </tr>\n",
       "  </tbody>\n",
       "</table>\n",
       "</div>"
      ],
      "text/plain": [
       "  userID time_window  periodicity_min  periodicity_max  periodicity_mean  \\\n",
       "0  10003     2015-11          1.00000              5.0          3.856317   \n",
       "1  10003     2015-12          0.96875              3.1          1.804443   \n",
       "2  10003     2016-01          0.96875              6.2          4.669534   \n",
       "\n",
       "   cluster_0  cluster_1  cluster_2  cluster_3  cluster_4  cluster_5  \\\n",
       "0   0.000422   0.001659   0.000678   0.001384   0.009694   0.041157   \n",
       "1   0.005291   0.012301   0.005336   0.016961   0.004192   0.011417   \n",
       "2   0.000362   0.002503   0.000469   0.001186   0.000355   0.044354   \n",
       "\n",
       "   cluster_6  cluster_7  cluster_8  cluster_9  cluster_10  \n",
       "0   0.012940   0.014144   0.007565   0.000422         0.0  \n",
       "1   0.144936   0.132760   0.075577   0.005263         0.0  \n",
       "2   0.019068   0.014143   0.009389   0.000362         0.0  "
      ]
     },
     "execution_count": 5,
     "metadata": {},
     "output_type": "execute_result"
    }
   ],
   "source": [
    "result.head(3)"
   ]
  },
  {
   "cell_type": "code",
   "execution_count": 5,
   "metadata": {
    "ExecuteTime": {
     "end_time": "2019-04-20T01:58:07.132851Z",
     "start_time": "2019-04-20T01:58:07.081066Z"
    }
   },
   "outputs": [],
   "source": [
    "#result = result.fillna(0)\n",
    "result.to_csv('health_state_prediction/data/exercise_patterns.clusters.train.csv', index=False)"
   ]
  },
  {
   "cell_type": "raw",
   "metadata": {
    "ExecuteTime": {
     "end_time": "2019-04-18T03:15:13.871403Z",
     "start_time": "2019-04-18T03:15:13.862379Z"
    }
   },
   "source": [
    "cluster_oh = pd.get_dummies(result['cluster'], prefix='cluster')\n",
    "result = pd.concat([result, cluster_oh], axis=1)\n",
    "\n",
    "#for col in cluster_oh.columns:\n",
    "#    result[col] = [31.*x/p for x,p in zip(result[col], result['periodicity_min'])]"
   ]
  },
  {
   "cell_type": "markdown",
   "metadata": {},
   "source": [
    "## 4. Save Module"
   ]
  },
  {
   "cell_type": "code",
   "execution_count": 6,
   "metadata": {
    "ExecuteTime": {
     "end_time": "2019-04-20T01:58:11.879086Z",
     "start_time": "2019-04-20T01:58:11.866619Z"
    }
   },
   "outputs": [],
   "source": [
    "with open('health_state_prediction/saved/PURE.pkl', 'wb') as f:\n",
    "    pkl.dump(uem, f)"
   ]
  },
  {
   "cell_type": "markdown",
   "metadata": {},
   "source": [
    "# User Representations"
   ]
  },
  {
   "cell_type": "markdown",
   "metadata": {},
   "source": [
    "## Load Module"
   ]
  },
  {
   "cell_type": "code",
   "execution_count": 2,
   "metadata": {
    "ExecuteTime": {
     "end_time": "2019-04-24T06:53:47.140205Z",
     "start_time": "2019-04-24T06:53:47.123500Z"
    }
   },
   "outputs": [],
   "source": [
    "with open('health_state_prediction/saved/PURE.pkl', 'rb') as f:\n",
    "    uem = pkl.load(f)"
   ]
  },
  {
   "cell_type": "markdown",
   "metadata": {},
   "source": [
    "## Representation Clusters"
   ]
  },
  {
   "cell_type": "markdown",
   "metadata": {},
   "source": [
    "### Dendrograms"
   ]
  },
  {
   "cell_type": "code",
   "execution_count": 27,
   "metadata": {
    "ExecuteTime": {
     "end_time": "2019-04-18T07:30:14.991174Z",
     "start_time": "2019-04-18T07:30:14.326055Z"
    }
   },
   "outputs": [
    {
     "data": {
      "image/png": "[encoded data removed]",
      "text/plain": [
       "<Figure size 1800x576 with 1 Axes>"
      ]
     },
     "metadata": {
      "needs_background": "light"
     },
     "output_type": "display_data"
    }
   ],
   "source": [
    "import sys\n",
    "sys.setrecursionlimit(10000)\n",
    "\n",
    "uem.pclust.show_dendrogram(p=11)"
   ]
  },
  {
   "cell_type": "markdown",
   "metadata": {},
   "source": [
    "### Cluster Characteristics"
   ]
  },
  {
   "cell_type": "code",
   "execution_count": 26,
   "metadata": {
    "ExecuteTime": {
     "end_time": "2019-04-18T07:30:14.324072Z",
     "start_time": "2019-04-18T07:30:12.432706Z"
    },
    "scrolled": true
   },
   "outputs": [
    {
     "name": "stdout",
     "output_type": "stream",
     "text": [
      "[Cluster 1]\t3 periodic user(s)\n"
     ]
    },
    {
     "data": {
      "text/html": [
       "<div>\n",
       "<style scoped>\n",
       "    .dataframe tbody tr th:only-of-type {\n",
       "        vertical-align: middle;\n",
       "    }\n",
       "\n",
       "    .dataframe tbody tr th {\n",
       "        vertical-align: top;\n",
       "    }\n",
       "\n",
       "    .dataframe thead th {\n",
       "        text-align: right;\n",
       "    }\n",
       "</style>\n",
       "<table border=\"1\" class=\"dataframe\">\n",
       "  <thead>\n",
       "    <tr style=\"text-align: right;\">\n",
       "      <th></th>\n",
       "      <th>pattern</th>\n",
       "      <th>percentage</th>\n",
       "    </tr>\n",
       "  </thead>\n",
       "  <tbody>\n",
       "    <tr>\n",
       "      <th>0</th>\n",
       "      <td>isExercise=(1)</td>\n",
       "      <td>100.00</td>\n",
       "    </tr>\n",
       "  </tbody>\n",
       "</table>\n",
       "</div>"
      ],
      "text/plain": [
       "          pattern percentage\n",
       "0  isExercise=(1)     100.00"
      ]
     },
     "metadata": {},
     "output_type": "display_data"
    },
    {
     "name": "stdout",
     "output_type": "stream",
     "text": [
      "==================================================\n",
      "[Cluster 2]\t55 periodic user(s)\n"
     ]
    },
    {
     "data": {
      "text/html": [
       "<div>\n",
       "<style scoped>\n",
       "    .dataframe tbody tr th:only-of-type {\n",
       "        vertical-align: middle;\n",
       "    }\n",
       "\n",
       "    .dataframe tbody tr th {\n",
       "        vertical-align: top;\n",
       "    }\n",
       "\n",
       "    .dataframe thead th {\n",
       "        text-align: right;\n",
       "    }\n",
       "</style>\n",
       "<table border=\"1\" class=\"dataframe\">\n",
       "  <thead>\n",
       "    <tr style=\"text-align: right;\">\n",
       "      <th></th>\n",
       "      <th>pattern</th>\n",
       "      <th>percentage</th>\n",
       "    </tr>\n",
       "  </thead>\n",
       "  <tbody>\n",
       "    <tr>\n",
       "      <th>0</th>\n",
       "      <td>exerciseClassId=(1.0) &amp; exerciseClassId_and_distance=(exerciseClassId=1.0 AND distance=(-1.156, 57.8])</td>\n",
       "      <td>98.18</td>\n",
       "    </tr>\n",
       "    <tr>\n",
       "      <th>1</th>\n",
       "      <td>exerciseClassId_and_distance=(exerciseClassId=1.0 AND distance=(-1.156, 57.8])</td>\n",
       "      <td>98.18</td>\n",
       "    </tr>\n",
       "    <tr>\n",
       "      <th>2</th>\n",
       "      <td>exerciseClassId_and_duration=(exerciseClassId=1.0 AND duration=(-181.86, 9093.0])</td>\n",
       "      <td>98.18</td>\n",
       "    </tr>\n",
       "    <tr>\n",
       "      <th>3</th>\n",
       "      <td>exerciseClassId=(1.0)</td>\n",
       "      <td>98.18</td>\n",
       "    </tr>\n",
       "    <tr>\n",
       "      <th>4</th>\n",
       "      <td>exerciseClassId_and_duration=(exerciseClassId=1.0 AND duration=(-181.86, 9093.0]) &amp; exerciseClassId_and_distance=(exerciseClassId=1.0 AND distance=(-1.156, 57.8])</td>\n",
       "      <td>98.18</td>\n",
       "    </tr>\n",
       "    <tr>\n",
       "      <th>5</th>\n",
       "      <td>exerciseClassId=(1.0) &amp; exerciseClassId_and_duration=(exerciseClassId=1.0 AND duration=(-181.86, 9093.0])</td>\n",
       "      <td>87.27</td>\n",
       "    </tr>\n",
       "    <tr>\n",
       "      <th>6</th>\n",
       "      <td>exerciseClassId=(1.0) &amp; exerciseClassId_and_duration=(exerciseClassId=1.0 AND duration=(-181.86, 9093.0]) &amp; exerciseClassId_and_distance=(exerciseClassId=1.0 AND distance=(-1.156, 57.8])</td>\n",
       "      <td>87.27</td>\n",
       "    </tr>\n",
       "    <tr>\n",
       "      <th>7</th>\n",
       "      <td>exerciseClassId_and_duration=(exerciseClassId=1.0 AND duration=(-181.86, 9093.0]) &amp; isExercise=(1)</td>\n",
       "      <td>70.91</td>\n",
       "    </tr>\n",
       "    <tr>\n",
       "      <th>8</th>\n",
       "      <td>exerciseClassId_and_calorie=(exerciseClassId=1.0 AND calorie=(-12.774, 638.7])</td>\n",
       "      <td>67.27</td>\n",
       "    </tr>\n",
       "    <tr>\n",
       "      <th>9</th>\n",
       "      <td>exerciseClassId=(1.0) &amp; isExercise=(1)</td>\n",
       "      <td>65.45</td>\n",
       "    </tr>\n",
       "    <tr>\n",
       "      <th>10</th>\n",
       "      <td>exerciseClassId_and_distance=(exerciseClassId=1.0 AND distance=(-1.156, 57.8]) &amp; isExercise=(1)</td>\n",
       "      <td>65.45</td>\n",
       "    </tr>\n",
       "    <tr>\n",
       "      <th>11</th>\n",
       "      <td>exerciseClassId_and_duration=(exerciseClassId=1.0 AND duration=(-181.86, 9093.0]) &amp; exerciseClassId_and_distance=(exerciseClassId=1.0 AND distance=(-1.156, 57.8]) &amp; isExercise=(1)</td>\n",
       "      <td>65.45</td>\n",
       "    </tr>\n",
       "    <tr>\n",
       "      <th>12</th>\n",
       "      <td>exerciseClassId=(1.0) &amp; exerciseClassId_and_distance=(exerciseClassId=1.0 AND distance=(-1.156, 57.8]) &amp; isExercise=(1)</td>\n",
       "      <td>65.45</td>\n",
       "    </tr>\n",
       "    <tr>\n",
       "      <th>13</th>\n",
       "      <td>exerciseClassId=(1.0) &amp; exerciseClassId_and_duration=(exerciseClassId=1.0 AND duration=(-181.86, 9093.0]) &amp; isExercise=(1)</td>\n",
       "      <td>60.00</td>\n",
       "    </tr>\n",
       "    <tr>\n",
       "      <th>14</th>\n",
       "      <td>exerciseClassId_and_calorie=(exerciseClassId=1.0 AND calorie=(-12.774, 638.7]) &amp; isExercise=(1)</td>\n",
       "      <td>60.00</td>\n",
       "    </tr>\n",
       "    <tr>\n",
       "      <th>15</th>\n",
       "      <td>exerciseClassId=(1.0) &amp; exerciseClassId_and_duration=(exerciseClassId=1.0 AND duration=(-181.86, 9093.0]) &amp; exerciseClassId_and_distance=(exerciseClassId=1.0 AND distance=(-1.156, 57.8]) &amp; isExercise=(1)</td>\n",
       "      <td>60.00</td>\n",
       "    </tr>\n",
       "    <tr>\n",
       "      <th>16</th>\n",
       "      <td>exerciseClassId_and_exerciseTime=(exerciseClassId=1.0 AND exerciseTime=evening) &amp; isExercise=(1)</td>\n",
       "      <td>52.73</td>\n",
       "    </tr>\n",
       "    <tr>\n",
       "      <th>17</th>\n",
       "      <td>exerciseClassId_and_exerciseTime=(exerciseClassId=1.0 AND exerciseTime=evening)</td>\n",
       "      <td>52.73</td>\n",
       "    </tr>\n",
       "  </tbody>\n",
       "</table>\n",
       "</div>"
      ],
      "text/plain": [
       "                                                                                                                                                                                                        pattern  \\\n",
       "0                                                                                                        exerciseClassId=(1.0) & exerciseClassId_and_distance=(exerciseClassId=1.0 AND distance=(-1.156, 57.8])   \n",
       "1                                                                                                                                exerciseClassId_and_distance=(exerciseClassId=1.0 AND distance=(-1.156, 57.8])   \n",
       "2                                                                                                                             exerciseClassId_and_duration=(exerciseClassId=1.0 AND duration=(-181.86, 9093.0])   \n",
       "3                                                                                                                                                                                         exerciseClassId=(1.0)   \n",
       "4                                            exerciseClassId_and_duration=(exerciseClassId=1.0 AND duration=(-181.86, 9093.0]) & exerciseClassId_and_distance=(exerciseClassId=1.0 AND distance=(-1.156, 57.8])   \n",
       "5                                                                                                     exerciseClassId=(1.0) & exerciseClassId_and_duration=(exerciseClassId=1.0 AND duration=(-181.86, 9093.0])   \n",
       "6                    exerciseClassId=(1.0) & exerciseClassId_and_duration=(exerciseClassId=1.0 AND duration=(-181.86, 9093.0]) & exerciseClassId_and_distance=(exerciseClassId=1.0 AND distance=(-1.156, 57.8])   \n",
       "7                                                                                                            exerciseClassId_and_duration=(exerciseClassId=1.0 AND duration=(-181.86, 9093.0]) & isExercise=(1)   \n",
       "8                                                                                                                                exerciseClassId_and_calorie=(exerciseClassId=1.0 AND calorie=(-12.774, 638.7])   \n",
       "9                                                                                                                                                                        exerciseClassId=(1.0) & isExercise=(1)   \n",
       "10                                                                                                              exerciseClassId_and_distance=(exerciseClassId=1.0 AND distance=(-1.156, 57.8]) & isExercise=(1)   \n",
       "11                          exerciseClassId_and_duration=(exerciseClassId=1.0 AND duration=(-181.86, 9093.0]) & exerciseClassId_and_distance=(exerciseClassId=1.0 AND distance=(-1.156, 57.8]) & isExercise=(1)   \n",
       "12                                                                                      exerciseClassId=(1.0) & exerciseClassId_and_distance=(exerciseClassId=1.0 AND distance=(-1.156, 57.8]) & isExercise=(1)   \n",
       "13                                                                                   exerciseClassId=(1.0) & exerciseClassId_and_duration=(exerciseClassId=1.0 AND duration=(-181.86, 9093.0]) & isExercise=(1)   \n",
       "14                                                                                                              exerciseClassId_and_calorie=(exerciseClassId=1.0 AND calorie=(-12.774, 638.7]) & isExercise=(1)   \n",
       "15  exerciseClassId=(1.0) & exerciseClassId_and_duration=(exerciseClassId=1.0 AND duration=(-181.86, 9093.0]) & exerciseClassId_and_distance=(exerciseClassId=1.0 AND distance=(-1.156, 57.8]) & isExercise=(1)   \n",
       "16                                                                                                             exerciseClassId_and_exerciseTime=(exerciseClassId=1.0 AND exerciseTime=evening) & isExercise=(1)   \n",
       "17                                                                                                                              exerciseClassId_and_exerciseTime=(exerciseClassId=1.0 AND exerciseTime=evening)   \n",
       "\n",
       "   percentage  \n",
       "0       98.18  \n",
       "1       98.18  \n",
       "2       98.18  \n",
       "3       98.18  \n",
       "4       98.18  \n",
       "5       87.27  \n",
       "6       87.27  \n",
       "7       70.91  \n",
       "8       67.27  \n",
       "9       65.45  \n",
       "10      65.45  \n",
       "11      65.45  \n",
       "12      65.45  \n",
       "13      60.00  \n",
       "14      60.00  \n",
       "15      60.00  \n",
       "16      52.73  \n",
       "17      52.73  "
      ]
     },
     "metadata": {},
     "output_type": "display_data"
    },
    {
     "data": {
      "text/html": [
       "<div>\n",
       "<style scoped>\n",
       "    .dataframe tbody tr th:only-of-type {\n",
       "        vertical-align: middle;\n",
       "    }\n",
       "\n",
       "    .dataframe tbody tr th {\n",
       "        vertical-align: top;\n",
       "    }\n",
       "\n",
       "    .dataframe thead th {\n",
       "        text-align: right;\n",
       "    }\n",
       "</style>\n",
       "<table border=\"1\" class=\"dataframe\">\n",
       "  <thead>\n",
       "    <tr style=\"text-align: right;\">\n",
       "      <th></th>\n",
       "      <th>pattern</th>\n",
       "      <th>percentage</th>\n",
       "    </tr>\n",
       "  </thead>\n",
       "  <tbody>\n",
       "    <tr>\n",
       "      <th>0</th>\n",
       "      <td>isExercise=(0)</td>\n",
       "      <td>90.91</td>\n",
       "    </tr>\n",
       "  </tbody>\n",
       "</table>\n",
       "</div>"
      ],
      "text/plain": [
       "          pattern percentage\n",
       "0  isExercise=(0)      90.91"
      ]
     },
     "metadata": {},
     "output_type": "display_data"
    },
    {
     "name": "stdout",
     "output_type": "stream",
     "text": [
      "==================================================\n",
      "[Cluster 3]\t43 periodic user(s)\n"
     ]
    },
    {
     "data": {
      "text/html": [
       "<div>\n",
       "<style scoped>\n",
       "    .dataframe tbody tr th:only-of-type {\n",
       "        vertical-align: middle;\n",
       "    }\n",
       "\n",
       "    .dataframe tbody tr th {\n",
       "        vertical-align: top;\n",
       "    }\n",
       "\n",
       "    .dataframe thead th {\n",
       "        text-align: right;\n",
       "    }\n",
       "</style>\n",
       "<table border=\"1\" class=\"dataframe\">\n",
       "  <thead>\n",
       "    <tr style=\"text-align: right;\">\n",
       "      <th></th>\n",
       "      <th>pattern</th>\n",
       "      <th>percentage</th>\n",
       "    </tr>\n",
       "  </thead>\n",
       "  <tbody>\n",
       "    <tr>\n",
       "      <th>0</th>\n",
       "      <td>exerciseClassId_and_distance=(exerciseClassId=4.0 AND distance=(-1.156, 57.8])</td>\n",
       "      <td>100.00</td>\n",
       "    </tr>\n",
       "    <tr>\n",
       "      <th>1</th>\n",
       "      <td>exerciseClassId=(4.0)</td>\n",
       "      <td>100.00</td>\n",
       "    </tr>\n",
       "    <tr>\n",
       "      <th>2</th>\n",
       "      <td>exerciseClassId=(4.0) &amp; exerciseClassId_and_distance=(exerciseClassId=4.0 AND distance=(-1.156, 57.8])</td>\n",
       "      <td>93.02</td>\n",
       "    </tr>\n",
       "    <tr>\n",
       "      <th>3</th>\n",
       "      <td>exerciseClassId_and_duration=(exerciseClassId=4.0 AND duration=(-181.86, 9093.0]) &amp; exerciseClassId_and_distance=(exerciseClassId=4.0 AND distance=(-1.156, 57.8])</td>\n",
       "      <td>90.70</td>\n",
       "    </tr>\n",
       "    <tr>\n",
       "      <th>4</th>\n",
       "      <td>exerciseClassId_and_duration=(exerciseClassId=4.0 AND duration=(-181.86, 9093.0])</td>\n",
       "      <td>90.70</td>\n",
       "    </tr>\n",
       "    <tr>\n",
       "      <th>5</th>\n",
       "      <td>exerciseClassId_and_calorie=(exerciseClassId=4.0 AND calorie=(-12.774, 638.7])</td>\n",
       "      <td>79.07</td>\n",
       "    </tr>\n",
       "    <tr>\n",
       "      <th>6</th>\n",
       "      <td>exerciseClassId_and_duration=(exerciseClassId=4.0 AND duration=(-181.86, 9093.0]) &amp; isExercise=(1)</td>\n",
       "      <td>74.42</td>\n",
       "    </tr>\n",
       "    <tr>\n",
       "      <th>7</th>\n",
       "      <td>exerciseClassId_and_calorie=(exerciseClassId=4.0 AND calorie=(-12.774, 638.7]) &amp; isExercise=(1)</td>\n",
       "      <td>74.42</td>\n",
       "    </tr>\n",
       "    <tr>\n",
       "      <th>8</th>\n",
       "      <td>exerciseClassId_and_distance=(exerciseClassId=4.0 AND distance=(-1.156, 57.8]) &amp; isExercise=(1)</td>\n",
       "      <td>65.12</td>\n",
       "    </tr>\n",
       "    <tr>\n",
       "      <th>9</th>\n",
       "      <td>exerciseClassId=(4.0) &amp; isExercise=(1)</td>\n",
       "      <td>58.14</td>\n",
       "    </tr>\n",
       "    <tr>\n",
       "      <th>10</th>\n",
       "      <td>exerciseClassId=(4.0) &amp; exerciseClassId_and_distance=(exerciseClassId=4.0 AND distance=(-1.156, 57.8]) &amp; isExercise=(1)</td>\n",
       "      <td>58.14</td>\n",
       "    </tr>\n",
       "    <tr>\n",
       "      <th>11</th>\n",
       "      <td>exerciseClassId_and_duration=(exerciseClassId=4.0 AND duration=(-181.86, 9093.0]) &amp; exerciseClassId_and_distance=(exerciseClassId=4.0 AND distance=(-1.156, 57.8]) &amp; isExercise=(1)</td>\n",
       "      <td>58.14</td>\n",
       "    </tr>\n",
       "    <tr>\n",
       "      <th>12</th>\n",
       "      <td>exerciseClassId_and_calorie=(exerciseClassId=4.0 AND calorie=(-12.774, 638.7]) &amp; exerciseClassId_and_distance=(exerciseClassId=4.0 AND distance=(-1.156, 57.8])</td>\n",
       "      <td>58.14</td>\n",
       "    </tr>\n",
       "    <tr>\n",
       "      <th>13</th>\n",
       "      <td>exerciseClassId_and_calorie=(exerciseClassId=4.0 AND calorie=(-12.774, 638.7]) &amp; exerciseClassId=(4.0)</td>\n",
       "      <td>58.14</td>\n",
       "    </tr>\n",
       "    <tr>\n",
       "      <th>14</th>\n",
       "      <td>exerciseClassId=(4.0) &amp; exerciseClassId_and_duration=(exerciseClassId=4.0 AND duration=(-181.86, 9093.0])</td>\n",
       "      <td>55.81</td>\n",
       "    </tr>\n",
       "    <tr>\n",
       "      <th>15</th>\n",
       "      <td>exerciseClassId=(4.0) &amp; exerciseClassId_and_duration=(exerciseClassId=4.0 AND duration=(-181.86, 9093.0]) &amp; exerciseClassId_and_distance=(exerciseClassId=4.0 AND distance=(-1.156, 57.8])</td>\n",
       "      <td>55.81</td>\n",
       "    </tr>\n",
       "    <tr>\n",
       "      <th>16</th>\n",
       "      <td>exerciseClassId_and_calorie=(exerciseClassId=4.0 AND calorie=(-12.774, 638.7]) &amp; exerciseClassId=(4.0) &amp; exerciseClassId_and_distance=(exerciseClassId=4.0 AND distance=(-1.156, 57.8])</td>\n",
       "      <td>55.81</td>\n",
       "    </tr>\n",
       "    <tr>\n",
       "      <th>17</th>\n",
       "      <td>exerciseClassId_and_exerciseTime=(exerciseClassId=4.0 AND exerciseTime=afternoon) &amp; exerciseClassId=(4.0)</td>\n",
       "      <td>44.19</td>\n",
       "    </tr>\n",
       "  </tbody>\n",
       "</table>\n",
       "</div>"
      ],
      "text/plain": [
       "                                                                                                                                                                                       pattern  \\\n",
       "0                                                                                                               exerciseClassId_and_distance=(exerciseClassId=4.0 AND distance=(-1.156, 57.8])   \n",
       "1                                                                                                                                                                        exerciseClassId=(4.0)   \n",
       "2                                                                                       exerciseClassId=(4.0) & exerciseClassId_and_distance=(exerciseClassId=4.0 AND distance=(-1.156, 57.8])   \n",
       "3                           exerciseClassId_and_duration=(exerciseClassId=4.0 AND duration=(-181.86, 9093.0]) & exerciseClassId_and_distance=(exerciseClassId=4.0 AND distance=(-1.156, 57.8])   \n",
       "4                                                                                                            exerciseClassId_and_duration=(exerciseClassId=4.0 AND duration=(-181.86, 9093.0])   \n",
       "5                                                                                                               exerciseClassId_and_calorie=(exerciseClassId=4.0 AND calorie=(-12.774, 638.7])   \n",
       "6                                                                                           exerciseClassId_and_duration=(exerciseClassId=4.0 AND duration=(-181.86, 9093.0]) & isExercise=(1)   \n",
       "7                                                                                              exerciseClassId_and_calorie=(exerciseClassId=4.0 AND calorie=(-12.774, 638.7]) & isExercise=(1)   \n",
       "8                                                                                              exerciseClassId_and_distance=(exerciseClassId=4.0 AND distance=(-1.156, 57.8]) & isExercise=(1)   \n",
       "9                                                                                                                                                       exerciseClassId=(4.0) & isExercise=(1)   \n",
       "10                                                                     exerciseClassId=(4.0) & exerciseClassId_and_distance=(exerciseClassId=4.0 AND distance=(-1.156, 57.8]) & isExercise=(1)   \n",
       "11         exerciseClassId_and_duration=(exerciseClassId=4.0 AND duration=(-181.86, 9093.0]) & exerciseClassId_and_distance=(exerciseClassId=4.0 AND distance=(-1.156, 57.8]) & isExercise=(1)   \n",
       "12                             exerciseClassId_and_calorie=(exerciseClassId=4.0 AND calorie=(-12.774, 638.7]) & exerciseClassId_and_distance=(exerciseClassId=4.0 AND distance=(-1.156, 57.8])   \n",
       "13                                                                                      exerciseClassId_and_calorie=(exerciseClassId=4.0 AND calorie=(-12.774, 638.7]) & exerciseClassId=(4.0)   \n",
       "14                                                                                   exerciseClassId=(4.0) & exerciseClassId_and_duration=(exerciseClassId=4.0 AND duration=(-181.86, 9093.0])   \n",
       "15  exerciseClassId=(4.0) & exerciseClassId_and_duration=(exerciseClassId=4.0 AND duration=(-181.86, 9093.0]) & exerciseClassId_and_distance=(exerciseClassId=4.0 AND distance=(-1.156, 57.8])   \n",
       "16     exerciseClassId_and_calorie=(exerciseClassId=4.0 AND calorie=(-12.774, 638.7]) & exerciseClassId=(4.0) & exerciseClassId_and_distance=(exerciseClassId=4.0 AND distance=(-1.156, 57.8])   \n",
       "17                                                                                   exerciseClassId_and_exerciseTime=(exerciseClassId=4.0 AND exerciseTime=afternoon) & exerciseClassId=(4.0)   \n",
       "\n",
       "   percentage  \n",
       "0      100.00  \n",
       "1      100.00  \n",
       "2       93.02  \n",
       "3       90.70  \n",
       "4       90.70  \n",
       "5       79.07  \n",
       "6       74.42  \n",
       "7       74.42  \n",
       "8       65.12  \n",
       "9       58.14  \n",
       "10      58.14  \n",
       "11      58.14  \n",
       "12      58.14  \n",
       "13      58.14  \n",
       "14      55.81  \n",
       "15      55.81  \n",
       "16      55.81  \n",
       "17      44.19  "
      ]
     },
     "metadata": {},
     "output_type": "display_data"
    },
    {
     "data": {
      "text/html": [
       "<div>\n",
       "<style scoped>\n",
       "    .dataframe tbody tr th:only-of-type {\n",
       "        vertical-align: middle;\n",
       "    }\n",
       "\n",
       "    .dataframe tbody tr th {\n",
       "        vertical-align: top;\n",
       "    }\n",
       "\n",
       "    .dataframe thead th {\n",
       "        text-align: right;\n",
       "    }\n",
       "</style>\n",
       "<table border=\"1\" class=\"dataframe\">\n",
       "  <thead>\n",
       "    <tr style=\"text-align: right;\">\n",
       "      <th></th>\n",
       "      <th>pattern</th>\n",
       "      <th>percentage</th>\n",
       "    </tr>\n",
       "  </thead>\n",
       "  <tbody>\n",
       "    <tr>\n",
       "      <th>0</th>\n",
       "      <td>isExercise=(0)</td>\n",
       "      <td>93.02</td>\n",
       "    </tr>\n",
       "  </tbody>\n",
       "</table>\n",
       "</div>"
      ],
      "text/plain": [
       "          pattern percentage\n",
       "0  isExercise=(0)      93.02"
      ]
     },
     "metadata": {},
     "output_type": "display_data"
    },
    {
     "name": "stdout",
     "output_type": "stream",
     "text": [
      "==================================================\n",
      "[Cluster 4]\t7 periodic user(s)\n"
     ]
    },
    {
     "data": {
      "text/html": [
       "<div>\n",
       "<style scoped>\n",
       "    .dataframe tbody tr th:only-of-type {\n",
       "        vertical-align: middle;\n",
       "    }\n",
       "\n",
       "    .dataframe tbody tr th {\n",
       "        vertical-align: top;\n",
       "    }\n",
       "\n",
       "    .dataframe thead th {\n",
       "        text-align: right;\n",
       "    }\n",
       "</style>\n",
       "<table border=\"1\" class=\"dataframe\">\n",
       "  <thead>\n",
       "    <tr style=\"text-align: right;\">\n",
       "      <th></th>\n",
       "      <th>pattern</th>\n",
       "      <th>percentage</th>\n",
       "    </tr>\n",
       "  </thead>\n",
       "  <tbody>\n",
       "    <tr>\n",
       "      <th>0</th>\n",
       "      <td>isExercise=(0)</td>\n",
       "      <td>100.00</td>\n",
       "    </tr>\n",
       "  </tbody>\n",
       "</table>\n",
       "</div>"
      ],
      "text/plain": [
       "          pattern percentage\n",
       "0  isExercise=(0)     100.00"
      ]
     },
     "metadata": {},
     "output_type": "display_data"
    },
    {
     "data": {
      "text/html": [
       "<div>\n",
       "<style scoped>\n",
       "    .dataframe tbody tr th:only-of-type {\n",
       "        vertical-align: middle;\n",
       "    }\n",
       "\n",
       "    .dataframe tbody tr th {\n",
       "        vertical-align: top;\n",
       "    }\n",
       "\n",
       "    .dataframe thead th {\n",
       "        text-align: right;\n",
       "    }\n",
       "</style>\n",
       "<table border=\"1\" class=\"dataframe\">\n",
       "  <thead>\n",
       "    <tr style=\"text-align: right;\">\n",
       "      <th></th>\n",
       "      <th>pattern</th>\n",
       "      <th>percentage</th>\n",
       "    </tr>\n",
       "  </thead>\n",
       "  <tbody>\n",
       "    <tr>\n",
       "      <th>0</th>\n",
       "      <td>exerciseClassId=(8.0) &amp; exerciseClassId_and_distance=(exerciseClassId=8.0 AND distance=(-1.156, 57.8])</td>\n",
       "      <td>42.86</td>\n",
       "    </tr>\n",
       "    <tr>\n",
       "      <th>1</th>\n",
       "      <td>exerciseClassId=(8.0)</td>\n",
       "      <td>42.86</td>\n",
       "    </tr>\n",
       "    <tr>\n",
       "      <th>2</th>\n",
       "      <td>exerciseClassId_and_distance=(exerciseClassId=8.0 AND distance=(-1.156, 57.8])</td>\n",
       "      <td>42.86</td>\n",
       "    </tr>\n",
       "    <tr>\n",
       "      <th>3</th>\n",
       "      <td>exerciseClassId_and_exerciseTime=(exerciseClassId=8.0 AND exerciseTime=afternoon) &amp; exerciseClassId_and_distance=(exerciseClassId=8.0 AND distance=(-1.156, 57.8])</td>\n",
       "      <td>28.57</td>\n",
       "    </tr>\n",
       "    <tr>\n",
       "      <th>4</th>\n",
       "      <td>exerciseClassId=(8.0) &amp; exerciseClassId_and_distance=(exerciseClassId=8.0 AND distance=(-1.156, 57.8]) &amp; isExercise=(1)</td>\n",
       "      <td>28.57</td>\n",
       "    </tr>\n",
       "    <tr>\n",
       "      <th>5</th>\n",
       "      <td>exerciseClassId=(8.0) &amp; isExercise=(1)</td>\n",
       "      <td>28.57</td>\n",
       "    </tr>\n",
       "    <tr>\n",
       "      <th>6</th>\n",
       "      <td>exerciseClassId_and_exerciseTime=(exerciseClassId=8.0 AND exerciseTime=afternoon)</td>\n",
       "      <td>28.57</td>\n",
       "    </tr>\n",
       "    <tr>\n",
       "      <th>7</th>\n",
       "      <td>exerciseClassId_and_exerciseTime=(exerciseClassId=8.0 AND exerciseTime=afternoon) &amp; isExercise=(1)</td>\n",
       "      <td>28.57</td>\n",
       "    </tr>\n",
       "    <tr>\n",
       "      <th>8</th>\n",
       "      <td>exerciseClassId_and_distance=(exerciseClassId=8.0 AND distance=(-1.156, 57.8]) &amp; isExercise=(1)</td>\n",
       "      <td>28.57</td>\n",
       "    </tr>\n",
       "    <tr>\n",
       "      <th>9</th>\n",
       "      <td>exerciseClassId_and_exerciseTime=(exerciseClassId=8.0 AND exerciseTime=afternoon) &amp; exerciseClassId=(8.0)</td>\n",
       "      <td>28.57</td>\n",
       "    </tr>\n",
       "    <tr>\n",
       "      <th>10</th>\n",
       "      <td>exerciseClassId_and_exerciseTime=(exerciseClassId=8.0 AND exerciseTime=afternoon) &amp; exerciseClassId=(8.0) &amp; exerciseClassId_and_distance=(exerciseClassId=8.0 AND distance=(-1.156, 57.8])</td>\n",
       "      <td>28.57</td>\n",
       "    </tr>\n",
       "    <tr>\n",
       "      <th>11</th>\n",
       "      <td>exerciseClassId_and_duration=(exerciseClassId=8.0 AND duration=(-181.86, 9093.0]) &amp; isExercise=(1)</td>\n",
       "      <td>28.57</td>\n",
       "    </tr>\n",
       "    <tr>\n",
       "      <th>12</th>\n",
       "      <td>exerciseClassId_and_duration=(exerciseClassId=8.0 AND duration=(-181.86, 9093.0]) &amp; exerciseClassId_and_distance=(exerciseClassId=8.0 AND distance=(-1.156, 57.8])</td>\n",
       "      <td>28.57</td>\n",
       "    </tr>\n",
       "    <tr>\n",
       "      <th>13</th>\n",
       "      <td>exerciseClassId_and_duration=(exerciseClassId=8.0 AND duration=(-181.86, 9093.0])</td>\n",
       "      <td>28.57</td>\n",
       "    </tr>\n",
       "    <tr>\n",
       "      <th>14</th>\n",
       "      <td>exerciseClassId_and_duration=(exerciseClassId=8.0 AND duration=(-181.86, 9093.0]) &amp; exerciseClassId=(8.0) &amp; exerciseClassId_and_distance=(exerciseClassId=8.0 AND distance=(-1.156, 57.8])</td>\n",
       "      <td>28.57</td>\n",
       "    </tr>\n",
       "    <tr>\n",
       "      <th>15</th>\n",
       "      <td>exerciseClassId_and_duration=(exerciseClassId=8.0 AND duration=(-181.86, 9093.0]) &amp; exerciseClassId=(8.0)</td>\n",
       "      <td>28.57</td>\n",
       "    </tr>\n",
       "  </tbody>\n",
       "</table>\n",
       "</div>"
      ],
      "text/plain": [
       "                                                                                                                                                                                       pattern  \\\n",
       "0                                                                                       exerciseClassId=(8.0) & exerciseClassId_and_distance=(exerciseClassId=8.0 AND distance=(-1.156, 57.8])   \n",
       "1                                                                                                                                                                        exerciseClassId=(8.0)   \n",
       "2                                                                                                               exerciseClassId_and_distance=(exerciseClassId=8.0 AND distance=(-1.156, 57.8])   \n",
       "3                           exerciseClassId_and_exerciseTime=(exerciseClassId=8.0 AND exerciseTime=afternoon) & exerciseClassId_and_distance=(exerciseClassId=8.0 AND distance=(-1.156, 57.8])   \n",
       "4                                                                      exerciseClassId=(8.0) & exerciseClassId_and_distance=(exerciseClassId=8.0 AND distance=(-1.156, 57.8]) & isExercise=(1)   \n",
       "5                                                                                                                                                       exerciseClassId=(8.0) & isExercise=(1)   \n",
       "6                                                                                                            exerciseClassId_and_exerciseTime=(exerciseClassId=8.0 AND exerciseTime=afternoon)   \n",
       "7                                                                                           exerciseClassId_and_exerciseTime=(exerciseClassId=8.0 AND exerciseTime=afternoon) & isExercise=(1)   \n",
       "8                                                                                              exerciseClassId_and_distance=(exerciseClassId=8.0 AND distance=(-1.156, 57.8]) & isExercise=(1)   \n",
       "9                                                                                    exerciseClassId_and_exerciseTime=(exerciseClassId=8.0 AND exerciseTime=afternoon) & exerciseClassId=(8.0)   \n",
       "10  exerciseClassId_and_exerciseTime=(exerciseClassId=8.0 AND exerciseTime=afternoon) & exerciseClassId=(8.0) & exerciseClassId_and_distance=(exerciseClassId=8.0 AND distance=(-1.156, 57.8])   \n",
       "11                                                                                          exerciseClassId_and_duration=(exerciseClassId=8.0 AND duration=(-181.86, 9093.0]) & isExercise=(1)   \n",
       "12                          exerciseClassId_and_duration=(exerciseClassId=8.0 AND duration=(-181.86, 9093.0]) & exerciseClassId_and_distance=(exerciseClassId=8.0 AND distance=(-1.156, 57.8])   \n",
       "13                                                                                                           exerciseClassId_and_duration=(exerciseClassId=8.0 AND duration=(-181.86, 9093.0])   \n",
       "14  exerciseClassId_and_duration=(exerciseClassId=8.0 AND duration=(-181.86, 9093.0]) & exerciseClassId=(8.0) & exerciseClassId_and_distance=(exerciseClassId=8.0 AND distance=(-1.156, 57.8])   \n",
       "15                                                                                   exerciseClassId_and_duration=(exerciseClassId=8.0 AND duration=(-181.86, 9093.0]) & exerciseClassId=(8.0)   \n",
       "\n",
       "   percentage  \n",
       "0       42.86  \n",
       "1       42.86  \n",
       "2       42.86  \n",
       "3       28.57  \n",
       "4       28.57  \n",
       "5       28.57  \n",
       "6       28.57  \n",
       "7       28.57  \n",
       "8       28.57  \n",
       "9       28.57  \n",
       "10      28.57  \n",
       "11      28.57  \n",
       "12      28.57  \n",
       "13      28.57  \n",
       "14      28.57  \n",
       "15      28.57  "
      ]
     },
     "metadata": {},
     "output_type": "display_data"
    },
    {
     "data": {
      "text/html": [
       "<div>\n",
       "<style scoped>\n",
       "    .dataframe tbody tr th:only-of-type {\n",
       "        vertical-align: middle;\n",
       "    }\n",
       "\n",
       "    .dataframe tbody tr th {\n",
       "        vertical-align: top;\n",
       "    }\n",
       "\n",
       "    .dataframe thead th {\n",
       "        text-align: right;\n",
       "    }\n",
       "</style>\n",
       "<table border=\"1\" class=\"dataframe\">\n",
       "  <thead>\n",
       "    <tr style=\"text-align: right;\">\n",
       "      <th></th>\n",
       "      <th>pattern</th>\n",
       "      <th>percentage</th>\n",
       "    </tr>\n",
       "  </thead>\n",
       "  <tbody>\n",
       "    <tr>\n",
       "      <th>0</th>\n",
       "      <td>exerciseClassId_and_exerciseTime=(exerciseClassId=13.0 AND exerciseTime=evening) &amp; isExercise=(1)</td>\n",
       "      <td>28.57</td>\n",
       "    </tr>\n",
       "    <tr>\n",
       "      <th>1</th>\n",
       "      <td>exerciseClassId=(13.0) &amp; exerciseClassId_and_distance=(exerciseClassId=13.0 AND distance=(-1.156, 57.8])</td>\n",
       "      <td>28.57</td>\n",
       "    </tr>\n",
       "  </tbody>\n",
       "</table>\n",
       "</div>"
      ],
      "text/plain": [
       "                                                                                                    pattern  \\\n",
       "0         exerciseClassId_and_exerciseTime=(exerciseClassId=13.0 AND exerciseTime=evening) & isExercise=(1)   \n",
       "1  exerciseClassId=(13.0) & exerciseClassId_and_distance=(exerciseClassId=13.0 AND distance=(-1.156, 57.8])   \n",
       "\n",
       "  percentage  \n",
       "0      28.57  \n",
       "1      28.57  "
      ]
     },
     "metadata": {},
     "output_type": "display_data"
    },
    {
     "name": "stdout",
     "output_type": "stream",
     "text": [
      "==================================================\n",
      "[Cluster 5]\t24 periodic user(s)\n"
     ]
    },
    {
     "data": {
      "text/html": [
       "<div>\n",
       "<style scoped>\n",
       "    .dataframe tbody tr th:only-of-type {\n",
       "        vertical-align: middle;\n",
       "    }\n",
       "\n",
       "    .dataframe tbody tr th {\n",
       "        vertical-align: top;\n",
       "    }\n",
       "\n",
       "    .dataframe thead th {\n",
       "        text-align: right;\n",
       "    }\n",
       "</style>\n",
       "<table border=\"1\" class=\"dataframe\">\n",
       "  <thead>\n",
       "    <tr style=\"text-align: right;\">\n",
       "      <th></th>\n",
       "      <th>pattern</th>\n",
       "      <th>percentage</th>\n",
       "    </tr>\n",
       "  </thead>\n",
       "  <tbody>\n",
       "    <tr>\n",
       "      <th>0</th>\n",
       "      <td>exerciseClassId_and_duration=(exerciseClassId=2.0 AND duration=(-181.86, 9093.0])</td>\n",
       "      <td>100.00</td>\n",
       "    </tr>\n",
       "    <tr>\n",
       "      <th>1</th>\n",
       "      <td>exerciseClassId=(2.0)</td>\n",
       "      <td>100.00</td>\n",
       "    </tr>\n",
       "    <tr>\n",
       "      <th>2</th>\n",
       "      <td>exerciseClassId_and_distance=(exerciseClassId=2.0 AND distance=(-1.156, 57.8])</td>\n",
       "      <td>100.00</td>\n",
       "    </tr>\n",
       "    <tr>\n",
       "      <th>3</th>\n",
       "      <td>exerciseClassId_and_duration=(exerciseClassId=2.0 AND duration=(-181.86, 9093.0]) &amp; exerciseClassId_and_distance=(exerciseClassId=2.0 AND distance=(-1.156, 57.8])</td>\n",
       "      <td>100.00</td>\n",
       "    </tr>\n",
       "    <tr>\n",
       "      <th>4</th>\n",
       "      <td>exerciseClassId=(2.0) &amp; exerciseClassId_and_distance=(exerciseClassId=2.0 AND distance=(-1.156, 57.8])</td>\n",
       "      <td>95.83</td>\n",
       "    </tr>\n",
       "    <tr>\n",
       "      <th>5</th>\n",
       "      <td>exerciseClassId_and_duration=(exerciseClassId=2.0 AND duration=(-181.86, 9093.0]) &amp; isExercise=(1)</td>\n",
       "      <td>87.50</td>\n",
       "    </tr>\n",
       "    <tr>\n",
       "      <th>6</th>\n",
       "      <td>exerciseClassId_and_duration=(exerciseClassId=2.0 AND duration=(-181.86, 9093.0]) &amp; exerciseClassId_and_distance=(exerciseClassId=2.0 AND distance=(-1.156, 57.8]) &amp; isExercise=(1)</td>\n",
       "      <td>83.33</td>\n",
       "    </tr>\n",
       "    <tr>\n",
       "      <th>7</th>\n",
       "      <td>exerciseClassId_and_distance=(exerciseClassId=2.0 AND distance=(-1.156, 57.8]) &amp; isExercise=(1)</td>\n",
       "      <td>83.33</td>\n",
       "    </tr>\n",
       "    <tr>\n",
       "      <th>8</th>\n",
       "      <td>exerciseClassId=(2.0) &amp; isExercise=(1)</td>\n",
       "      <td>83.33</td>\n",
       "    </tr>\n",
       "    <tr>\n",
       "      <th>9</th>\n",
       "      <td>exerciseClassId=(2.0) &amp; exerciseClassId_and_distance=(exerciseClassId=2.0 AND distance=(-1.156, 57.8]) &amp; isExercise=(1)</td>\n",
       "      <td>79.17</td>\n",
       "    </tr>\n",
       "    <tr>\n",
       "      <th>10</th>\n",
       "      <td>exerciseClassId=(2.0) &amp; exerciseClassId_and_duration=(exerciseClassId=2.0 AND duration=(-181.86, 9093.0]) &amp; exerciseClassId_and_distance=(exerciseClassId=2.0 AND distance=(-1.156, 57.8])</td>\n",
       "      <td>62.50</td>\n",
       "    </tr>\n",
       "    <tr>\n",
       "      <th>11</th>\n",
       "      <td>exerciseClassId=(2.0) &amp; exerciseClassId_and_duration=(exerciseClassId=2.0 AND duration=(-181.86, 9093.0])</td>\n",
       "      <td>62.50</td>\n",
       "    </tr>\n",
       "    <tr>\n",
       "      <th>12</th>\n",
       "      <td>exerciseClassId_and_exerciseTime=(exerciseClassId=2.0 AND exerciseTime=evening)</td>\n",
       "      <td>50.00</td>\n",
       "    </tr>\n",
       "    <tr>\n",
       "      <th>13</th>\n",
       "      <td>exerciseClassId_and_exerciseTime=(exerciseClassId=2.0 AND exerciseTime=evening) &amp; isExercise=(1)</td>\n",
       "      <td>50.00</td>\n",
       "    </tr>\n",
       "    <tr>\n",
       "      <th>14</th>\n",
       "      <td>exerciseClassId=(2.0) &amp; exerciseClassId_and_duration=(exerciseClassId=2.0 AND duration=(-181.86, 9093.0]) &amp; isExercise=(1)</td>\n",
       "      <td>50.00</td>\n",
       "    </tr>\n",
       "    <tr>\n",
       "      <th>15</th>\n",
       "      <td>exerciseClassId=(2.0) &amp; exerciseClassId_and_duration=(exerciseClassId=2.0 AND duration=(-181.86, 9093.0]) &amp; exerciseClassId_and_distance=(exerciseClassId=2.0 AND distance=(-1.156, 57.8]) &amp; isExercise=(1)</td>\n",
       "      <td>50.00</td>\n",
       "    </tr>\n",
       "    <tr>\n",
       "      <th>16</th>\n",
       "      <td>exerciseClassId_and_exerciseTime=(exerciseClassId=2.0 AND exerciseTime=evening) &amp; exerciseClassId=(2.0)</td>\n",
       "      <td>45.83</td>\n",
       "    </tr>\n",
       "    <tr>\n",
       "      <th>17</th>\n",
       "      <td>exerciseClassId_and_exerciseTime=(exerciseClassId=2.0 AND exerciseTime=evening) &amp; exerciseClassId_and_distance=(exerciseClassId=2.0 AND distance=(-1.156, 57.8])</td>\n",
       "      <td>45.83</td>\n",
       "    </tr>\n",
       "  </tbody>\n",
       "</table>\n",
       "</div>"
      ],
      "text/plain": [
       "                                                                                                                                                                                                        pattern  \\\n",
       "0                                                                                                                             exerciseClassId_and_duration=(exerciseClassId=2.0 AND duration=(-181.86, 9093.0])   \n",
       "1                                                                                                                                                                                         exerciseClassId=(2.0)   \n",
       "2                                                                                                                                exerciseClassId_and_distance=(exerciseClassId=2.0 AND distance=(-1.156, 57.8])   \n",
       "3                                            exerciseClassId_and_duration=(exerciseClassId=2.0 AND duration=(-181.86, 9093.0]) & exerciseClassId_and_distance=(exerciseClassId=2.0 AND distance=(-1.156, 57.8])   \n",
       "4                                                                                                        exerciseClassId=(2.0) & exerciseClassId_and_distance=(exerciseClassId=2.0 AND distance=(-1.156, 57.8])   \n",
       "5                                                                                                            exerciseClassId_and_duration=(exerciseClassId=2.0 AND duration=(-181.86, 9093.0]) & isExercise=(1)   \n",
       "6                           exerciseClassId_and_duration=(exerciseClassId=2.0 AND duration=(-181.86, 9093.0]) & exerciseClassId_and_distance=(exerciseClassId=2.0 AND distance=(-1.156, 57.8]) & isExercise=(1)   \n",
       "7                                                                                                               exerciseClassId_and_distance=(exerciseClassId=2.0 AND distance=(-1.156, 57.8]) & isExercise=(1)   \n",
       "8                                                                                                                                                                        exerciseClassId=(2.0) & isExercise=(1)   \n",
       "9                                                                                       exerciseClassId=(2.0) & exerciseClassId_and_distance=(exerciseClassId=2.0 AND distance=(-1.156, 57.8]) & isExercise=(1)   \n",
       "10                   exerciseClassId=(2.0) & exerciseClassId_and_duration=(exerciseClassId=2.0 AND duration=(-181.86, 9093.0]) & exerciseClassId_and_distance=(exerciseClassId=2.0 AND distance=(-1.156, 57.8])   \n",
       "11                                                                                                    exerciseClassId=(2.0) & exerciseClassId_and_duration=(exerciseClassId=2.0 AND duration=(-181.86, 9093.0])   \n",
       "12                                                                                                                              exerciseClassId_and_exerciseTime=(exerciseClassId=2.0 AND exerciseTime=evening)   \n",
       "13                                                                                                             exerciseClassId_and_exerciseTime=(exerciseClassId=2.0 AND exerciseTime=evening) & isExercise=(1)   \n",
       "14                                                                                   exerciseClassId=(2.0) & exerciseClassId_and_duration=(exerciseClassId=2.0 AND duration=(-181.86, 9093.0]) & isExercise=(1)   \n",
       "15  exerciseClassId=(2.0) & exerciseClassId_and_duration=(exerciseClassId=2.0 AND duration=(-181.86, 9093.0]) & exerciseClassId_and_distance=(exerciseClassId=2.0 AND distance=(-1.156, 57.8]) & isExercise=(1)   \n",
       "16                                                                                                      exerciseClassId_and_exerciseTime=(exerciseClassId=2.0 AND exerciseTime=evening) & exerciseClassId=(2.0)   \n",
       "17                                             exerciseClassId_and_exerciseTime=(exerciseClassId=2.0 AND exerciseTime=evening) & exerciseClassId_and_distance=(exerciseClassId=2.0 AND distance=(-1.156, 57.8])   \n",
       "\n",
       "   percentage  \n",
       "0      100.00  \n",
       "1      100.00  \n",
       "2      100.00  \n",
       "3      100.00  \n",
       "4       95.83  \n",
       "5       87.50  \n",
       "6       83.33  \n",
       "7       83.33  \n",
       "8       83.33  \n",
       "9       79.17  \n",
       "10      62.50  \n",
       "11      62.50  \n",
       "12      50.00  \n",
       "13      50.00  \n",
       "14      50.00  \n",
       "15      50.00  \n",
       "16      45.83  \n",
       "17      45.83  "
      ]
     },
     "metadata": {},
     "output_type": "display_data"
    },
    {
     "data": {
      "text/html": [
       "<div>\n",
       "<style scoped>\n",
       "    .dataframe tbody tr th:only-of-type {\n",
       "        vertical-align: middle;\n",
       "    }\n",
       "\n",
       "    .dataframe tbody tr th {\n",
       "        vertical-align: top;\n",
       "    }\n",
       "\n",
       "    .dataframe thead th {\n",
       "        text-align: right;\n",
       "    }\n",
       "</style>\n",
       "<table border=\"1\" class=\"dataframe\">\n",
       "  <thead>\n",
       "    <tr style=\"text-align: right;\">\n",
       "      <th></th>\n",
       "      <th>pattern</th>\n",
       "      <th>percentage</th>\n",
       "    </tr>\n",
       "  </thead>\n",
       "  <tbody>\n",
       "    <tr>\n",
       "      <th>0</th>\n",
       "      <td>isExercise=(0)</td>\n",
       "      <td>79.17</td>\n",
       "    </tr>\n",
       "  </tbody>\n",
       "</table>\n",
       "</div>"
      ],
      "text/plain": [
       "          pattern percentage\n",
       "0  isExercise=(0)      79.17"
      ]
     },
     "metadata": {},
     "output_type": "display_data"
    },
    {
     "name": "stdout",
     "output_type": "stream",
     "text": [
      "==================================================\n",
      "[Cluster 6]\t51 periodic user(s)\n"
     ]
    },
    {
     "data": {
      "text/html": [
       "<div>\n",
       "<style scoped>\n",
       "    .dataframe tbody tr th:only-of-type {\n",
       "        vertical-align: middle;\n",
       "    }\n",
       "\n",
       "    .dataframe tbody tr th {\n",
       "        vertical-align: top;\n",
       "    }\n",
       "\n",
       "    .dataframe thead th {\n",
       "        text-align: right;\n",
       "    }\n",
       "</style>\n",
       "<table border=\"1\" class=\"dataframe\">\n",
       "  <thead>\n",
       "    <tr style=\"text-align: right;\">\n",
       "      <th></th>\n",
       "      <th>pattern</th>\n",
       "      <th>percentage</th>\n",
       "    </tr>\n",
       "  </thead>\n",
       "  <tbody>\n",
       "    <tr>\n",
       "      <th>0</th>\n",
       "      <td>isExercise=(0)</td>\n",
       "      <td>58.82</td>\n",
       "    </tr>\n",
       "  </tbody>\n",
       "</table>\n",
       "</div>"
      ],
      "text/plain": [
       "          pattern percentage\n",
       "0  isExercise=(0)      58.82"
      ]
     },
     "metadata": {},
     "output_type": "display_data"
    },
    {
     "data": {
      "text/html": [
       "<div>\n",
       "<style scoped>\n",
       "    .dataframe tbody tr th:only-of-type {\n",
       "        vertical-align: middle;\n",
       "    }\n",
       "\n",
       "    .dataframe tbody tr th {\n",
       "        vertical-align: top;\n",
       "    }\n",
       "\n",
       "    .dataframe thead th {\n",
       "        text-align: right;\n",
       "    }\n",
       "</style>\n",
       "<table border=\"1\" class=\"dataframe\">\n",
       "  <thead>\n",
       "    <tr style=\"text-align: right;\">\n",
       "      <th></th>\n",
       "      <th>pattern</th>\n",
       "      <th>percentage</th>\n",
       "    </tr>\n",
       "  </thead>\n",
       "  <tbody>\n",
       "    <tr>\n",
       "      <th>0</th>\n",
       "      <td>exerciseClassId_and_distance=(exerciseClassId=7.0 AND distance=(-1.156, 57.8])</td>\n",
       "      <td>56.86</td>\n",
       "    </tr>\n",
       "    <tr>\n",
       "      <th>1</th>\n",
       "      <td>exerciseClassId=(7.0)</td>\n",
       "      <td>56.86</td>\n",
       "    </tr>\n",
       "    <tr>\n",
       "      <th>2</th>\n",
       "      <td>exerciseClassId_and_duration=(exerciseClassId=7.0 AND duration=(-181.86, 9093.0])</td>\n",
       "      <td>56.86</td>\n",
       "    </tr>\n",
       "    <tr>\n",
       "      <th>3</th>\n",
       "      <td>exerciseClassId=(7.0) &amp; exerciseClassId_and_distance=(exerciseClassId=7.0 AND distance=(-1.156, 57.8])</td>\n",
       "      <td>54.90</td>\n",
       "    </tr>\n",
       "    <tr>\n",
       "      <th>4</th>\n",
       "      <td>exerciseClassId_and_duration=(exerciseClassId=7.0 AND duration=(-181.86, 9093.0]) &amp; exerciseClassId_and_distance=(exerciseClassId=7.0 AND distance=(-1.156, 57.8])</td>\n",
       "      <td>54.90</td>\n",
       "    </tr>\n",
       "    <tr>\n",
       "      <th>5</th>\n",
       "      <td>exerciseClassId=(7.0) &amp; exerciseClassId_and_duration=(exerciseClassId=7.0 AND duration=(-181.86, 9093.0])</td>\n",
       "      <td>49.02</td>\n",
       "    </tr>\n",
       "    <tr>\n",
       "      <th>6</th>\n",
       "      <td>exerciseClassId_and_calorie=(exerciseClassId=7.0 AND calorie=(-12.774, 638.7])</td>\n",
       "      <td>49.02</td>\n",
       "    </tr>\n",
       "    <tr>\n",
       "      <th>7</th>\n",
       "      <td>exerciseClassId=(7.0) &amp; exerciseClassId_and_duration=(exerciseClassId=7.0 AND duration=(-181.86, 9093.0]) &amp; exerciseClassId_and_distance=(exerciseClassId=7.0 AND distance=(-1.156, 57.8])</td>\n",
       "      <td>49.02</td>\n",
       "    </tr>\n",
       "    <tr>\n",
       "      <th>8</th>\n",
       "      <td>exerciseClassId_and_exerciseTime=(exerciseClassId=7.0 AND exerciseTime=evening)</td>\n",
       "      <td>43.14</td>\n",
       "    </tr>\n",
       "    <tr>\n",
       "      <th>9</th>\n",
       "      <td>exerciseClassId_and_exerciseTime=(exerciseClassId=7.0 AND exerciseTime=evening) &amp; isExercise=(1)</td>\n",
       "      <td>43.14</td>\n",
       "    </tr>\n",
       "    <tr>\n",
       "      <th>10</th>\n",
       "      <td>exerciseClassId_and_calorie=(exerciseClassId=7.0 AND calorie=(-12.774, 638.7]) &amp; isExercise=(1)</td>\n",
       "      <td>41.18</td>\n",
       "    </tr>\n",
       "    <tr>\n",
       "      <th>11</th>\n",
       "      <td>exerciseClassId_and_exerciseTime=(exerciseClassId=7.0 AND exerciseTime=evening) &amp; exerciseClassId=(7.0)</td>\n",
       "      <td>41.18</td>\n",
       "    </tr>\n",
       "    <tr>\n",
       "      <th>12</th>\n",
       "      <td>exerciseClassId_and_calorie=(exerciseClassId=7.0 AND calorie=(-12.774, 638.7]) &amp; exerciseClassId_and_duration=(exerciseClassId=7.0 AND duration=(-181.86, 9093.0])</td>\n",
       "      <td>39.22</td>\n",
       "    </tr>\n",
       "    <tr>\n",
       "      <th>13</th>\n",
       "      <td>exerciseClassId_and_calorie=(exerciseClassId=7.0 AND calorie=(-12.774, 638.7]) &amp; exerciseClassId_and_distance=(exerciseClassId=7.0 AND distance=(-1.156, 57.8])</td>\n",
       "      <td>39.22</td>\n",
       "    </tr>\n",
       "    <tr>\n",
       "      <th>14</th>\n",
       "      <td>exerciseClassId_and_calorie=(exerciseClassId=7.0 AND calorie=(-12.774, 638.7]) &amp; exerciseClassId=(7.0)</td>\n",
       "      <td>39.22</td>\n",
       "    </tr>\n",
       "    <tr>\n",
       "      <th>15</th>\n",
       "      <td>exerciseClassId_and_exerciseTime=(exerciseClassId=7.0 AND exerciseTime=evening) &amp; exerciseClassId_and_duration=(exerciseClassId=7.0 AND duration=(-181.86, 9093.0])</td>\n",
       "      <td>39.22</td>\n",
       "    </tr>\n",
       "    <tr>\n",
       "      <th>16</th>\n",
       "      <td>exerciseClassId_and_exerciseTime=(exerciseClassId=7.0 AND exerciseTime=evening) &amp; exerciseClassId_and_duration=(exerciseClassId=7.0 AND duration=(-181.86, 9093.0]) &amp; exerciseClassId_and_distance=(exerciseClassId=7.0 AND distance=(-1.156, 57.8])</td>\n",
       "      <td>39.22</td>\n",
       "    </tr>\n",
       "    <tr>\n",
       "      <th>17</th>\n",
       "      <td>exerciseClassId_and_exerciseTime=(exerciseClassId=7.0 AND exerciseTime=evening) &amp; exerciseClassId=(7.0) &amp; exerciseClassId_and_distance=(exerciseClassId=7.0 AND distance=(-1.156, 57.8])</td>\n",
       "      <td>39.22</td>\n",
       "    </tr>\n",
       "  </tbody>\n",
       "</table>\n",
       "</div>"
      ],
      "text/plain": [
       "                                                                                                                                                                                                                                                 pattern  \\\n",
       "0                                                                                                                                                                         exerciseClassId_and_distance=(exerciseClassId=7.0 AND distance=(-1.156, 57.8])   \n",
       "1                                                                                                                                                                                                                                  exerciseClassId=(7.0)   \n",
       "2                                                                                                                                                                      exerciseClassId_and_duration=(exerciseClassId=7.0 AND duration=(-181.86, 9093.0])   \n",
       "3                                                                                                                                                 exerciseClassId=(7.0) & exerciseClassId_and_distance=(exerciseClassId=7.0 AND distance=(-1.156, 57.8])   \n",
       "4                                                                                     exerciseClassId_and_duration=(exerciseClassId=7.0 AND duration=(-181.86, 9093.0]) & exerciseClassId_and_distance=(exerciseClassId=7.0 AND distance=(-1.156, 57.8])   \n",
       "5                                                                                                                                              exerciseClassId=(7.0) & exerciseClassId_and_duration=(exerciseClassId=7.0 AND duration=(-181.86, 9093.0])   \n",
       "6                                                                                                                                                                         exerciseClassId_and_calorie=(exerciseClassId=7.0 AND calorie=(-12.774, 638.7])   \n",
       "7                                                             exerciseClassId=(7.0) & exerciseClassId_and_duration=(exerciseClassId=7.0 AND duration=(-181.86, 9093.0]) & exerciseClassId_and_distance=(exerciseClassId=7.0 AND distance=(-1.156, 57.8])   \n",
       "8                                                                                                                                                                        exerciseClassId_and_exerciseTime=(exerciseClassId=7.0 AND exerciseTime=evening)   \n",
       "9                                                                                                                                                       exerciseClassId_and_exerciseTime=(exerciseClassId=7.0 AND exerciseTime=evening) & isExercise=(1)   \n",
       "10                                                                                                                                                       exerciseClassId_and_calorie=(exerciseClassId=7.0 AND calorie=(-12.774, 638.7]) & isExercise=(1)   \n",
       "11                                                                                                                                               exerciseClassId_and_exerciseTime=(exerciseClassId=7.0 AND exerciseTime=evening) & exerciseClassId=(7.0)   \n",
       "12                                                                                    exerciseClassId_and_calorie=(exerciseClassId=7.0 AND calorie=(-12.774, 638.7]) & exerciseClassId_and_duration=(exerciseClassId=7.0 AND duration=(-181.86, 9093.0])   \n",
       "13                                                                                       exerciseClassId_and_calorie=(exerciseClassId=7.0 AND calorie=(-12.774, 638.7]) & exerciseClassId_and_distance=(exerciseClassId=7.0 AND distance=(-1.156, 57.8])   \n",
       "14                                                                                                                                                exerciseClassId_and_calorie=(exerciseClassId=7.0 AND calorie=(-12.774, 638.7]) & exerciseClassId=(7.0)   \n",
       "15                                                                                   exerciseClassId_and_exerciseTime=(exerciseClassId=7.0 AND exerciseTime=evening) & exerciseClassId_and_duration=(exerciseClassId=7.0 AND duration=(-181.86, 9093.0])   \n",
       "16  exerciseClassId_and_exerciseTime=(exerciseClassId=7.0 AND exerciseTime=evening) & exerciseClassId_and_duration=(exerciseClassId=7.0 AND duration=(-181.86, 9093.0]) & exerciseClassId_and_distance=(exerciseClassId=7.0 AND distance=(-1.156, 57.8])   \n",
       "17                                                              exerciseClassId_and_exerciseTime=(exerciseClassId=7.0 AND exerciseTime=evening) & exerciseClassId=(7.0) & exerciseClassId_and_distance=(exerciseClassId=7.0 AND distance=(-1.156, 57.8])   \n",
       "\n",
       "   percentage  \n",
       "0       56.86  \n",
       "1       56.86  \n",
       "2       56.86  \n",
       "3       54.90  \n",
       "4       54.90  \n",
       "5       49.02  \n",
       "6       49.02  \n",
       "7       49.02  \n",
       "8       43.14  \n",
       "9       43.14  \n",
       "10      41.18  \n",
       "11      41.18  \n",
       "12      39.22  \n",
       "13      39.22  \n",
       "14      39.22  \n",
       "15      39.22  \n",
       "16      39.22  \n",
       "17      39.22  "
      ]
     },
     "metadata": {},
     "output_type": "display_data"
    },
    {
     "name": "stdout",
     "output_type": "stream",
     "text": [
      "==================================================\n",
      "[Cluster 7]\t9 periodic user(s)\n"
     ]
    },
    {
     "data": {
      "text/html": [
       "<div>\n",
       "<style scoped>\n",
       "    .dataframe tbody tr th:only-of-type {\n",
       "        vertical-align: middle;\n",
       "    }\n",
       "\n",
       "    .dataframe tbody tr th {\n",
       "        vertical-align: top;\n",
       "    }\n",
       "\n",
       "    .dataframe thead th {\n",
       "        text-align: right;\n",
       "    }\n",
       "</style>\n",
       "<table border=\"1\" class=\"dataframe\">\n",
       "  <thead>\n",
       "    <tr style=\"text-align: right;\">\n",
       "      <th></th>\n",
       "      <th>pattern</th>\n",
       "      <th>percentage</th>\n",
       "    </tr>\n",
       "  </thead>\n",
       "  <tbody>\n",
       "    <tr>\n",
       "      <th>0</th>\n",
       "      <td>exerciseClassId=(9.0) &amp; exerciseClassId_and_duration=(exerciseClassId=9.0 AND duration=(-181.86, 9093.0]) &amp; exerciseClassId_and_distance=(exerciseClassId=9.0 AND distance=(-1.156, 57.8]) &amp; exerciseClassId_and_calorie=(exerciseClassId=9.0 AND calorie=(-12.774, 638.7]) &amp; isExercise=(1)</td>\n",
       "      <td>100.00</td>\n",
       "    </tr>\n",
       "    <tr>\n",
       "      <th>1</th>\n",
       "      <td>exerciseClassId=(9.0) &amp; exerciseClassId_and_duration=(exerciseClassId=9.0 AND duration=(-181.86, 9093.0]) &amp; exerciseClassId_and_distance=(exerciseClassId=9.0 AND distance=(-1.156, 57.8]) &amp; exerciseClassId_and_calorie=(exerciseClassId=9.0 AND calorie=(-12.774, 638.7])</td>\n",
       "      <td>100.00</td>\n",
       "    </tr>\n",
       "    <tr>\n",
       "      <th>2</th>\n",
       "      <td>exerciseClassId=(9.0) &amp; exerciseClassId_and_duration=(exerciseClassId=9.0 AND duration=(-181.86, 9093.0]) &amp; exerciseClassId_and_distance=(exerciseClassId=9.0 AND distance=(-1.156, 57.8]) &amp; isExercise=(1)</td>\n",
       "      <td>100.00</td>\n",
       "    </tr>\n",
       "    <tr>\n",
       "      <th>3</th>\n",
       "      <td>exerciseClassId_and_duration=(exerciseClassId=9.0 AND duration=(-181.86, 9093.0]) &amp; exerciseClassId_and_calorie=(exerciseClassId=9.0 AND calorie=(-12.774, 638.7]) &amp; isExercise=(1)</td>\n",
       "      <td>100.00</td>\n",
       "    </tr>\n",
       "    <tr>\n",
       "      <th>4</th>\n",
       "      <td>exerciseClassId_and_duration=(exerciseClassId=9.0 AND duration=(-181.86, 9093.0]) &amp; exerciseClassId_and_distance=(exerciseClassId=9.0 AND distance=(-1.156, 57.8])</td>\n",
       "      <td>100.00</td>\n",
       "    </tr>\n",
       "    <tr>\n",
       "      <th>5</th>\n",
       "      <td>exerciseClassId=(9.0) &amp; exerciseClassId_and_duration=(exerciseClassId=9.0 AND duration=(-181.86, 9093.0]) &amp; exerciseClassId_and_calorie=(exerciseClassId=9.0 AND calorie=(-12.774, 638.7])</td>\n",
       "      <td>100.00</td>\n",
       "    </tr>\n",
       "    <tr>\n",
       "      <th>6</th>\n",
       "      <td>exerciseClassId_and_calorie=(exerciseClassId=9.0 AND calorie=(-12.774, 638.7])</td>\n",
       "      <td>100.00</td>\n",
       "    </tr>\n",
       "    <tr>\n",
       "      <th>7</th>\n",
       "      <td>exerciseClassId_and_duration=(exerciseClassId=9.0 AND duration=(-181.86, 9093.0]) &amp; exerciseClassId_and_calorie=(exerciseClassId=9.0 AND calorie=(-12.774, 638.7])</td>\n",
       "      <td>100.00</td>\n",
       "    </tr>\n",
       "    <tr>\n",
       "      <th>8</th>\n",
       "      <td>exerciseClassId_and_calorie=(exerciseClassId=9.0 AND calorie=(-12.774, 638.7]) &amp; isExercise=(1)</td>\n",
       "      <td>100.00</td>\n",
       "    </tr>\n",
       "    <tr>\n",
       "      <th>9</th>\n",
       "      <td>exerciseClassId_and_duration=(exerciseClassId=9.0 AND duration=(-181.86, 9093.0]) &amp; exerciseClassId_and_distance=(exerciseClassId=9.0 AND distance=(-1.156, 57.8]) &amp; isExercise=(1)</td>\n",
       "      <td>100.00</td>\n",
       "    </tr>\n",
       "    <tr>\n",
       "      <th>10</th>\n",
       "      <td>exerciseClassId=(9.0) &amp; exerciseClassId_and_distance=(exerciseClassId=9.0 AND distance=(-1.156, 57.8]) &amp; exerciseClassId_and_calorie=(exerciseClassId=9.0 AND calorie=(-12.774, 638.7]) &amp; isExercise=(1)</td>\n",
       "      <td>100.00</td>\n",
       "    </tr>\n",
       "    <tr>\n",
       "      <th>11</th>\n",
       "      <td>exerciseClassId_and_distance=(exerciseClassId=9.0 AND distance=(-1.156, 57.8]) &amp; exerciseClassId_and_calorie=(exerciseClassId=9.0 AND calorie=(-12.774, 638.7])</td>\n",
       "      <td>100.00</td>\n",
       "    </tr>\n",
       "    <tr>\n",
       "      <th>12</th>\n",
       "      <td>exerciseClassId_and_duration=(exerciseClassId=9.0 AND duration=(-181.86, 9093.0]) &amp; isExercise=(1)</td>\n",
       "      <td>100.00</td>\n",
       "    </tr>\n",
       "    <tr>\n",
       "      <th>13</th>\n",
       "      <td>exerciseClassId=(9.0) &amp; isExercise=(1)</td>\n",
       "      <td>100.00</td>\n",
       "    </tr>\n",
       "    <tr>\n",
       "      <th>14</th>\n",
       "      <td>exerciseClassId=(9.0) &amp; exerciseClassId_and_calorie=(exerciseClassId=9.0 AND calorie=(-12.774, 638.7])</td>\n",
       "      <td>100.00</td>\n",
       "    </tr>\n",
       "    <tr>\n",
       "      <th>15</th>\n",
       "      <td>exerciseClassId=(9.0) &amp; exerciseClassId_and_calorie=(exerciseClassId=9.0 AND calorie=(-12.774, 638.7]) &amp; isExercise=(1)</td>\n",
       "      <td>100.00</td>\n",
       "    </tr>\n",
       "    <tr>\n",
       "      <th>16</th>\n",
       "      <td>exerciseClassId_and_distance=(exerciseClassId=9.0 AND distance=(-1.156, 57.8])</td>\n",
       "      <td>100.00</td>\n",
       "    </tr>\n",
       "    <tr>\n",
       "      <th>17</th>\n",
       "      <td>exerciseClassId_and_duration=(exerciseClassId=9.0 AND duration=(-181.86, 9093.0])</td>\n",
       "      <td>100.00</td>\n",
       "    </tr>\n",
       "    <tr>\n",
       "      <th>18</th>\n",
       "      <td>exerciseClassId=(9.0) &amp; exerciseClassId_and_distance=(exerciseClassId=9.0 AND distance=(-1.156, 57.8]) &amp; exerciseClassId_and_calorie=(exerciseClassId=9.0 AND calorie=(-12.774, 638.7])</td>\n",
       "      <td>100.00</td>\n",
       "    </tr>\n",
       "  </tbody>\n",
       "</table>\n",
       "</div>"
      ],
      "text/plain": [
       "                                                                                                                                                                                                                                                                                         pattern  \\\n",
       "0   exerciseClassId=(9.0) & exerciseClassId_and_duration=(exerciseClassId=9.0 AND duration=(-181.86, 9093.0]) & exerciseClassId_and_distance=(exerciseClassId=9.0 AND distance=(-1.156, 57.8]) & exerciseClassId_and_calorie=(exerciseClassId=9.0 AND calorie=(-12.774, 638.7]) & isExercise=(1)   \n",
       "1                    exerciseClassId=(9.0) & exerciseClassId_and_duration=(exerciseClassId=9.0 AND duration=(-181.86, 9093.0]) & exerciseClassId_and_distance=(exerciseClassId=9.0 AND distance=(-1.156, 57.8]) & exerciseClassId_and_calorie=(exerciseClassId=9.0 AND calorie=(-12.774, 638.7])   \n",
       "2                                                                                    exerciseClassId=(9.0) & exerciseClassId_and_duration=(exerciseClassId=9.0 AND duration=(-181.86, 9093.0]) & exerciseClassId_and_distance=(exerciseClassId=9.0 AND distance=(-1.156, 57.8]) & isExercise=(1)   \n",
       "3                                                                                                            exerciseClassId_and_duration=(exerciseClassId=9.0 AND duration=(-181.86, 9093.0]) & exerciseClassId_and_calorie=(exerciseClassId=9.0 AND calorie=(-12.774, 638.7]) & isExercise=(1)   \n",
       "4                                                                                                                             exerciseClassId_and_duration=(exerciseClassId=9.0 AND duration=(-181.86, 9093.0]) & exerciseClassId_and_distance=(exerciseClassId=9.0 AND distance=(-1.156, 57.8])   \n",
       "5                                                                                                     exerciseClassId=(9.0) & exerciseClassId_and_duration=(exerciseClassId=9.0 AND duration=(-181.86, 9093.0]) & exerciseClassId_and_calorie=(exerciseClassId=9.0 AND calorie=(-12.774, 638.7])   \n",
       "6                                                                                                                                                                                                                 exerciseClassId_and_calorie=(exerciseClassId=9.0 AND calorie=(-12.774, 638.7])   \n",
       "7                                                                                                                             exerciseClassId_and_duration=(exerciseClassId=9.0 AND duration=(-181.86, 9093.0]) & exerciseClassId_and_calorie=(exerciseClassId=9.0 AND calorie=(-12.774, 638.7])   \n",
       "8                                                                                                                                                                                                exerciseClassId_and_calorie=(exerciseClassId=9.0 AND calorie=(-12.774, 638.7]) & isExercise=(1)   \n",
       "9                                                                                                            exerciseClassId_and_duration=(exerciseClassId=9.0 AND duration=(-181.86, 9093.0]) & exerciseClassId_and_distance=(exerciseClassId=9.0 AND distance=(-1.156, 57.8]) & isExercise=(1)   \n",
       "10                                                                                      exerciseClassId=(9.0) & exerciseClassId_and_distance=(exerciseClassId=9.0 AND distance=(-1.156, 57.8]) & exerciseClassId_and_calorie=(exerciseClassId=9.0 AND calorie=(-12.774, 638.7]) & isExercise=(1)   \n",
       "11                                                                                                                               exerciseClassId_and_distance=(exerciseClassId=9.0 AND distance=(-1.156, 57.8]) & exerciseClassId_and_calorie=(exerciseClassId=9.0 AND calorie=(-12.774, 638.7])   \n",
       "12                                                                                                                                                                                            exerciseClassId_and_duration=(exerciseClassId=9.0 AND duration=(-181.86, 9093.0]) & isExercise=(1)   \n",
       "13                                                                                                                                                                                                                                                        exerciseClassId=(9.0) & isExercise=(1)   \n",
       "14                                                                                                                                                                                        exerciseClassId=(9.0) & exerciseClassId_and_calorie=(exerciseClassId=9.0 AND calorie=(-12.774, 638.7])   \n",
       "15                                                                                                                                                                       exerciseClassId=(9.0) & exerciseClassId_and_calorie=(exerciseClassId=9.0 AND calorie=(-12.774, 638.7]) & isExercise=(1)   \n",
       "16                                                                                                                                                                                                                exerciseClassId_and_distance=(exerciseClassId=9.0 AND distance=(-1.156, 57.8])   \n",
       "17                                                                                                                                                                                                             exerciseClassId_and_duration=(exerciseClassId=9.0 AND duration=(-181.86, 9093.0])   \n",
       "18                                                                                                       exerciseClassId=(9.0) & exerciseClassId_and_distance=(exerciseClassId=9.0 AND distance=(-1.156, 57.8]) & exerciseClassId_and_calorie=(exerciseClassId=9.0 AND calorie=(-12.774, 638.7])   \n",
       "\n",
       "   percentage  \n",
       "0      100.00  \n",
       "1      100.00  \n",
       "2      100.00  \n",
       "3      100.00  \n",
       "4      100.00  \n",
       "5      100.00  \n",
       "6      100.00  \n",
       "7      100.00  \n",
       "8      100.00  \n",
       "9      100.00  \n",
       "10     100.00  \n",
       "11     100.00  \n",
       "12     100.00  \n",
       "13     100.00  \n",
       "14     100.00  \n",
       "15     100.00  \n",
       "16     100.00  \n",
       "17     100.00  \n",
       "18     100.00  "
      ]
     },
     "metadata": {},
     "output_type": "display_data"
    },
    {
     "name": "stdout",
     "output_type": "stream",
     "text": [
      "==================================================\n",
      "[Cluster 8]\t51 periodic user(s)\n"
     ]
    },
    {
     "data": {
      "text/html": [
       "<div>\n",
       "<style scoped>\n",
       "    .dataframe tbody tr th:only-of-type {\n",
       "        vertical-align: middle;\n",
       "    }\n",
       "\n",
       "    .dataframe tbody tr th {\n",
       "        vertical-align: top;\n",
       "    }\n",
       "\n",
       "    .dataframe thead th {\n",
       "        text-align: right;\n",
       "    }\n",
       "</style>\n",
       "<table border=\"1\" class=\"dataframe\">\n",
       "  <thead>\n",
       "    <tr style=\"text-align: right;\">\n",
       "      <th></th>\n",
       "      <th>pattern</th>\n",
       "      <th>percentage</th>\n",
       "    </tr>\n",
       "  </thead>\n",
       "  <tbody>\n",
       "    <tr>\n",
       "      <th>0</th>\n",
       "      <td>exerciseClassId_and_duration=(exerciseClassId=9.0 AND duration=(-181.86, 9093.0]) &amp; exerciseClassId_and_distance=(exerciseClassId=9.0 AND distance=(-1.156, 57.8])</td>\n",
       "      <td>100.00</td>\n",
       "    </tr>\n",
       "    <tr>\n",
       "      <th>1</th>\n",
       "      <td>exerciseClassId_and_distance=(exerciseClassId=9.0 AND distance=(-1.156, 57.8])</td>\n",
       "      <td>100.00</td>\n",
       "    </tr>\n",
       "    <tr>\n",
       "      <th>2</th>\n",
       "      <td>exerciseClassId_and_duration=(exerciseClassId=9.0 AND duration=(-181.86, 9093.0])</td>\n",
       "      <td>100.00</td>\n",
       "    </tr>\n",
       "    <tr>\n",
       "      <th>3</th>\n",
       "      <td>exerciseClassId=(9.0)</td>\n",
       "      <td>100.00</td>\n",
       "    </tr>\n",
       "    <tr>\n",
       "      <th>4</th>\n",
       "      <td>exerciseClassId=(9.0) &amp; exerciseClassId_and_distance=(exerciseClassId=9.0 AND distance=(-1.156, 57.8])</td>\n",
       "      <td>100.00</td>\n",
       "    </tr>\n",
       "    <tr>\n",
       "      <th>5</th>\n",
       "      <td>exerciseClassId=(9.0) &amp; exerciseClassId_and_duration=(exerciseClassId=9.0 AND duration=(-181.86, 9093.0])</td>\n",
       "      <td>72.55</td>\n",
       "    </tr>\n",
       "    <tr>\n",
       "      <th>6</th>\n",
       "      <td>exerciseClassId=(9.0) &amp; exerciseClassId_and_duration=(exerciseClassId=9.0 AND duration=(-181.86, 9093.0]) &amp; exerciseClassId_and_distance=(exerciseClassId=9.0 AND distance=(-1.156, 57.8])</td>\n",
       "      <td>72.55</td>\n",
       "    </tr>\n",
       "    <tr>\n",
       "      <th>7</th>\n",
       "      <td>exerciseClassId_and_calorie=(exerciseClassId=9.0 AND calorie=(-12.774, 638.7])</td>\n",
       "      <td>70.59</td>\n",
       "    </tr>\n",
       "    <tr>\n",
       "      <th>8</th>\n",
       "      <td>isExercise=(1) &amp; exerciseClassId=(9.0) &amp; exerciseClassId_and_distance=(exerciseClassId=9.0 AND distance=(-1.156, 57.8])</td>\n",
       "      <td>64.71</td>\n",
       "    </tr>\n",
       "    <tr>\n",
       "      <th>9</th>\n",
       "      <td>isExercise=(1) &amp; exerciseClassId_and_distance=(exerciseClassId=9.0 AND distance=(-1.156, 57.8])</td>\n",
       "      <td>64.71</td>\n",
       "    </tr>\n",
       "    <tr>\n",
       "      <th>10</th>\n",
       "      <td>isExercise=(1) &amp; exerciseClassId=(9.0)</td>\n",
       "      <td>64.71</td>\n",
       "    </tr>\n",
       "    <tr>\n",
       "      <th>11</th>\n",
       "      <td>exerciseClassId_and_duration=(exerciseClassId=9.0 AND duration=(-181.86, 9093.0]) &amp; isExercise=(1)</td>\n",
       "      <td>54.90</td>\n",
       "    </tr>\n",
       "    <tr>\n",
       "      <th>12</th>\n",
       "      <td>exerciseClassId_and_calorie=(exerciseClassId=9.0 AND calorie=(-12.774, 638.7]) &amp; isExercise=(1)</td>\n",
       "      <td>52.94</td>\n",
       "    </tr>\n",
       "    <tr>\n",
       "      <th>13</th>\n",
       "      <td>exerciseClassId_and_exerciseTime=(exerciseClassId=9.0 AND exerciseTime=evening)</td>\n",
       "      <td>52.94</td>\n",
       "    </tr>\n",
       "    <tr>\n",
       "      <th>14</th>\n",
       "      <td>exerciseClassId_and_duration=(exerciseClassId=9.0 AND duration=(-181.86, 9093.0]) &amp; exerciseClassId_and_calorie=(exerciseClassId=9.0 AND calorie=(-12.774, 638.7])</td>\n",
       "      <td>45.10</td>\n",
       "    </tr>\n",
       "    <tr>\n",
       "      <th>15</th>\n",
       "      <td>exerciseClassId_and_exerciseTime=(exerciseClassId=9.0 AND exerciseTime=afternoon)</td>\n",
       "      <td>45.10</td>\n",
       "    </tr>\n",
       "    <tr>\n",
       "      <th>16</th>\n",
       "      <td>isExercise=(1) &amp; exerciseClassId=(9.0) &amp; exerciseClassId_and_duration=(exerciseClassId=9.0 AND duration=(-181.86, 9093.0])</td>\n",
       "      <td>45.10</td>\n",
       "    </tr>\n",
       "    <tr>\n",
       "      <th>17</th>\n",
       "      <td>isExercise=(1) &amp; exerciseClassId_and_duration=(exerciseClassId=9.0 AND duration=(-181.86, 9093.0]) &amp; exerciseClassId_and_distance=(exerciseClassId=9.0 AND distance=(-1.156, 57.8])</td>\n",
       "      <td>45.10</td>\n",
       "    </tr>\n",
       "  </tbody>\n",
       "</table>\n",
       "</div>"
      ],
      "text/plain": [
       "                                                                                                                                                                                       pattern  \\\n",
       "0                           exerciseClassId_and_duration=(exerciseClassId=9.0 AND duration=(-181.86, 9093.0]) & exerciseClassId_and_distance=(exerciseClassId=9.0 AND distance=(-1.156, 57.8])   \n",
       "1                                                                                                               exerciseClassId_and_distance=(exerciseClassId=9.0 AND distance=(-1.156, 57.8])   \n",
       "2                                                                                                            exerciseClassId_and_duration=(exerciseClassId=9.0 AND duration=(-181.86, 9093.0])   \n",
       "3                                                                                                                                                                        exerciseClassId=(9.0)   \n",
       "4                                                                                       exerciseClassId=(9.0) & exerciseClassId_and_distance=(exerciseClassId=9.0 AND distance=(-1.156, 57.8])   \n",
       "5                                                                                    exerciseClassId=(9.0) & exerciseClassId_and_duration=(exerciseClassId=9.0 AND duration=(-181.86, 9093.0])   \n",
       "6   exerciseClassId=(9.0) & exerciseClassId_and_duration=(exerciseClassId=9.0 AND duration=(-181.86, 9093.0]) & exerciseClassId_and_distance=(exerciseClassId=9.0 AND distance=(-1.156, 57.8])   \n",
       "7                                                                                                               exerciseClassId_and_calorie=(exerciseClassId=9.0 AND calorie=(-12.774, 638.7])   \n",
       "8                                                                      isExercise=(1) & exerciseClassId=(9.0) & exerciseClassId_and_distance=(exerciseClassId=9.0 AND distance=(-1.156, 57.8])   \n",
       "9                                                                                              isExercise=(1) & exerciseClassId_and_distance=(exerciseClassId=9.0 AND distance=(-1.156, 57.8])   \n",
       "10                                                                                                                                                      isExercise=(1) & exerciseClassId=(9.0)   \n",
       "11                                                                                          exerciseClassId_and_duration=(exerciseClassId=9.0 AND duration=(-181.86, 9093.0]) & isExercise=(1)   \n",
       "12                                                                                             exerciseClassId_and_calorie=(exerciseClassId=9.0 AND calorie=(-12.774, 638.7]) & isExercise=(1)   \n",
       "13                                                                                                             exerciseClassId_and_exerciseTime=(exerciseClassId=9.0 AND exerciseTime=evening)   \n",
       "14                          exerciseClassId_and_duration=(exerciseClassId=9.0 AND duration=(-181.86, 9093.0]) & exerciseClassId_and_calorie=(exerciseClassId=9.0 AND calorie=(-12.774, 638.7])   \n",
       "15                                                                                                           exerciseClassId_and_exerciseTime=(exerciseClassId=9.0 AND exerciseTime=afternoon)   \n",
       "16                                                                  isExercise=(1) & exerciseClassId=(9.0) & exerciseClassId_and_duration=(exerciseClassId=9.0 AND duration=(-181.86, 9093.0])   \n",
       "17         isExercise=(1) & exerciseClassId_and_duration=(exerciseClassId=9.0 AND duration=(-181.86, 9093.0]) & exerciseClassId_and_distance=(exerciseClassId=9.0 AND distance=(-1.156, 57.8])   \n",
       "\n",
       "   percentage  \n",
       "0      100.00  \n",
       "1      100.00  \n",
       "2      100.00  \n",
       "3      100.00  \n",
       "4      100.00  \n",
       "5       72.55  \n",
       "6       72.55  \n",
       "7       70.59  \n",
       "8       64.71  \n",
       "9       64.71  \n",
       "10      64.71  \n",
       "11      54.90  \n",
       "12      52.94  \n",
       "13      52.94  \n",
       "14      45.10  \n",
       "15      45.10  \n",
       "16      45.10  \n",
       "17      45.10  "
      ]
     },
     "metadata": {},
     "output_type": "display_data"
    },
    {
     "data": {
      "text/html": [
       "<div>\n",
       "<style scoped>\n",
       "    .dataframe tbody tr th:only-of-type {\n",
       "        vertical-align: middle;\n",
       "    }\n",
       "\n",
       "    .dataframe tbody tr th {\n",
       "        vertical-align: top;\n",
       "    }\n",
       "\n",
       "    .dataframe thead th {\n",
       "        text-align: right;\n",
       "    }\n",
       "</style>\n",
       "<table border=\"1\" class=\"dataframe\">\n",
       "  <thead>\n",
       "    <tr style=\"text-align: right;\">\n",
       "      <th></th>\n",
       "      <th>pattern</th>\n",
       "      <th>percentage</th>\n",
       "    </tr>\n",
       "  </thead>\n",
       "  <tbody>\n",
       "    <tr>\n",
       "      <th>0</th>\n",
       "      <td>isExercise=(0)</td>\n",
       "      <td>78.43</td>\n",
       "    </tr>\n",
       "  </tbody>\n",
       "</table>\n",
       "</div>"
      ],
      "text/plain": [
       "          pattern percentage\n",
       "0  isExercise=(0)      78.43"
      ]
     },
     "metadata": {},
     "output_type": "display_data"
    },
    {
     "name": "stdout",
     "output_type": "stream",
     "text": [
      "==================================================\n",
      "[Cluster 9]\t20 periodic user(s)\n"
     ]
    },
    {
     "data": {
      "text/html": [
       "<div>\n",
       "<style scoped>\n",
       "    .dataframe tbody tr th:only-of-type {\n",
       "        vertical-align: middle;\n",
       "    }\n",
       "\n",
       "    .dataframe tbody tr th {\n",
       "        vertical-align: top;\n",
       "    }\n",
       "\n",
       "    .dataframe thead th {\n",
       "        text-align: right;\n",
       "    }\n",
       "</style>\n",
       "<table border=\"1\" class=\"dataframe\">\n",
       "  <thead>\n",
       "    <tr style=\"text-align: right;\">\n",
       "      <th></th>\n",
       "      <th>pattern</th>\n",
       "      <th>percentage</th>\n",
       "    </tr>\n",
       "  </thead>\n",
       "  <tbody>\n",
       "    <tr>\n",
       "      <th>0</th>\n",
       "      <td>exerciseClassId_and_duration=(exerciseClassId=9.0 AND duration=(-181.86, 9093.0]) &amp; exerciseClassId_and_distance=(exerciseClassId=9.0 AND distance=(-1.156, 57.8])</td>\n",
       "      <td>100.00</td>\n",
       "    </tr>\n",
       "    <tr>\n",
       "      <th>1</th>\n",
       "      <td>exerciseClassId_and_distance=(exerciseClassId=9.0 AND distance=(-1.156, 57.8])</td>\n",
       "      <td>100.00</td>\n",
       "    </tr>\n",
       "    <tr>\n",
       "      <th>2</th>\n",
       "      <td>exerciseClassId_and_duration=(exerciseClassId=9.0 AND duration=(-181.86, 9093.0])</td>\n",
       "      <td>100.00</td>\n",
       "    </tr>\n",
       "    <tr>\n",
       "      <th>3</th>\n",
       "      <td>exerciseClassId=(9.0)</td>\n",
       "      <td>100.00</td>\n",
       "    </tr>\n",
       "    <tr>\n",
       "      <th>4</th>\n",
       "      <td>exerciseClassId=(9.0) &amp; exerciseClassId_and_distance=(exerciseClassId=9.0 AND distance=(-1.156, 57.8])</td>\n",
       "      <td>100.00</td>\n",
       "    </tr>\n",
       "    <tr>\n",
       "      <th>5</th>\n",
       "      <td>exerciseClassId_and_calorie=(exerciseClassId=9.0 AND calorie=(-12.774, 638.7])</td>\n",
       "      <td>95.00</td>\n",
       "    </tr>\n",
       "    <tr>\n",
       "      <th>6</th>\n",
       "      <td>exerciseClassId_and_calorie=(exerciseClassId=9.0 AND calorie=(-12.774, 638.7]) &amp; exerciseClassId_and_distance=(exerciseClassId=9.0 AND distance=(-1.156, 57.8])</td>\n",
       "      <td>95.00</td>\n",
       "    </tr>\n",
       "    <tr>\n",
       "      <th>7</th>\n",
       "      <td>exerciseClassId_and_calorie=(exerciseClassId=9.0 AND calorie=(-12.774, 638.7]) &amp; isExercise=(1)</td>\n",
       "      <td>95.00</td>\n",
       "    </tr>\n",
       "    <tr>\n",
       "      <th>8</th>\n",
       "      <td>exerciseClassId_and_calorie=(exerciseClassId=9.0 AND calorie=(-12.774, 638.7]) &amp; exerciseClassId=(9.0) &amp; exerciseClassId_and_distance=(exerciseClassId=9.0 AND distance=(-1.156, 57.8])</td>\n",
       "      <td>95.00</td>\n",
       "    </tr>\n",
       "    <tr>\n",
       "      <th>9</th>\n",
       "      <td>exerciseClassId_and_calorie=(exerciseClassId=9.0 AND calorie=(-12.774, 638.7]) &amp; exerciseClassId=(9.0)</td>\n",
       "      <td>95.00</td>\n",
       "    </tr>\n",
       "    <tr>\n",
       "      <th>10</th>\n",
       "      <td>exerciseClassId=(9.0) &amp; exerciseClassId_and_duration=(exerciseClassId=9.0 AND duration=(-181.86, 9093.0])</td>\n",
       "      <td>95.00</td>\n",
       "    </tr>\n",
       "    <tr>\n",
       "      <th>11</th>\n",
       "      <td>exerciseClassId=(9.0) &amp; exerciseClassId_and_duration=(exerciseClassId=9.0 AND duration=(-181.86, 9093.0]) &amp; exerciseClassId_and_distance=(exerciseClassId=9.0 AND distance=(-1.156, 57.8])</td>\n",
       "      <td>95.00</td>\n",
       "    </tr>\n",
       "    <tr>\n",
       "      <th>12</th>\n",
       "      <td>exerciseClassId_and_exerciseTime=(exerciseClassId=9.0 AND exerciseTime=evening)</td>\n",
       "      <td>95.00</td>\n",
       "    </tr>\n",
       "    <tr>\n",
       "      <th>13</th>\n",
       "      <td>exerciseClassId_and_calorie=(exerciseClassId=9.0 AND calorie=(-12.774, 638.7]) &amp; exerciseClassId=(9.0) &amp; exerciseClassId_and_duration=(exerciseClassId=9.0 AND duration=(-181.86, 9093.0])</td>\n",
       "      <td>90.00</td>\n",
       "    </tr>\n",
       "    <tr>\n",
       "      <th>14</th>\n",
       "      <td>exerciseClassId_and_calorie=(exerciseClassId=9.0 AND calorie=(-12.774, 638.7]) &amp; exerciseClassId_and_duration=(exerciseClassId=9.0 AND duration=(-181.86, 9093.0])</td>\n",
       "      <td>90.00</td>\n",
       "    </tr>\n",
       "    <tr>\n",
       "      <th>15</th>\n",
       "      <td>exerciseClassId_and_calorie=(exerciseClassId=9.0 AND calorie=(-12.774, 638.7]) &amp; exerciseClassId=(9.0) &amp; exerciseClassId_and_duration=(exerciseClassId=9.0 AND duration=(-181.86, 9093.0]) &amp; exerciseClassId_and_distance=(exerciseClassId=9.0 AND distance=(-1.156, 57.8])</td>\n",
       "      <td>90.00</td>\n",
       "    </tr>\n",
       "    <tr>\n",
       "      <th>16</th>\n",
       "      <td>exerciseClassId_and_calorie=(exerciseClassId=9.0 AND calorie=(-12.774, 638.7]) &amp; exerciseClassId_and_duration=(exerciseClassId=9.0 AND duration=(-181.86, 9093.0]) &amp; exerciseClassId_and_distance=(exerciseClassId=9.0 AND distance=(-1.156, 57.8])</td>\n",
       "      <td>90.00</td>\n",
       "    </tr>\n",
       "    <tr>\n",
       "      <th>17</th>\n",
       "      <td>exerciseClassId_and_duration=(exerciseClassId=9.0 AND duration=(-181.86, 9093.0]) &amp; exerciseClassId_and_distance=(exerciseClassId=9.0 AND distance=(-1.156, 57.8]) &amp; isExercise=(1)</td>\n",
       "      <td>85.00</td>\n",
       "    </tr>\n",
       "    <tr>\n",
       "      <th>18</th>\n",
       "      <td>exerciseClassId_and_duration=(exerciseClassId=9.0 AND duration=(-181.86, 9093.0]) &amp; isExercise=(1)</td>\n",
       "      <td>85.00</td>\n",
       "    </tr>\n",
       "  </tbody>\n",
       "</table>\n",
       "</div>"
      ],
      "text/plain": [
       "                                                                                                                                                                                                                                                                        pattern  \\\n",
       "0                                                                                                            exerciseClassId_and_duration=(exerciseClassId=9.0 AND duration=(-181.86, 9093.0]) & exerciseClassId_and_distance=(exerciseClassId=9.0 AND distance=(-1.156, 57.8])   \n",
       "1                                                                                                                                                                                                exerciseClassId_and_distance=(exerciseClassId=9.0 AND distance=(-1.156, 57.8])   \n",
       "2                                                                                                                                                                                             exerciseClassId_and_duration=(exerciseClassId=9.0 AND duration=(-181.86, 9093.0])   \n",
       "3                                                                                                                                                                                                                                                         exerciseClassId=(9.0)   \n",
       "4                                                                                                                                                                        exerciseClassId=(9.0) & exerciseClassId_and_distance=(exerciseClassId=9.0 AND distance=(-1.156, 57.8])   \n",
       "5                                                                                                                                                                                                exerciseClassId_and_calorie=(exerciseClassId=9.0 AND calorie=(-12.774, 638.7])   \n",
       "6                                                                                                               exerciseClassId_and_calorie=(exerciseClassId=9.0 AND calorie=(-12.774, 638.7]) & exerciseClassId_and_distance=(exerciseClassId=9.0 AND distance=(-1.156, 57.8])   \n",
       "7                                                                                                                                                                               exerciseClassId_and_calorie=(exerciseClassId=9.0 AND calorie=(-12.774, 638.7]) & isExercise=(1)   \n",
       "8                                                                                       exerciseClassId_and_calorie=(exerciseClassId=9.0 AND calorie=(-12.774, 638.7]) & exerciseClassId=(9.0) & exerciseClassId_and_distance=(exerciseClassId=9.0 AND distance=(-1.156, 57.8])   \n",
       "9                                                                                                                                                                        exerciseClassId_and_calorie=(exerciseClassId=9.0 AND calorie=(-12.774, 638.7]) & exerciseClassId=(9.0)   \n",
       "10                                                                                                                                                                    exerciseClassId=(9.0) & exerciseClassId_and_duration=(exerciseClassId=9.0 AND duration=(-181.86, 9093.0])   \n",
       "11                                                                                   exerciseClassId=(9.0) & exerciseClassId_and_duration=(exerciseClassId=9.0 AND duration=(-181.86, 9093.0]) & exerciseClassId_and_distance=(exerciseClassId=9.0 AND distance=(-1.156, 57.8])   \n",
       "12                                                                                                                                                                                              exerciseClassId_and_exerciseTime=(exerciseClassId=9.0 AND exerciseTime=evening)   \n",
       "13                                                                                   exerciseClassId_and_calorie=(exerciseClassId=9.0 AND calorie=(-12.774, 638.7]) & exerciseClassId=(9.0) & exerciseClassId_and_duration=(exerciseClassId=9.0 AND duration=(-181.86, 9093.0])   \n",
       "14                                                                                                           exerciseClassId_and_calorie=(exerciseClassId=9.0 AND calorie=(-12.774, 638.7]) & exerciseClassId_and_duration=(exerciseClassId=9.0 AND duration=(-181.86, 9093.0])   \n",
       "15  exerciseClassId_and_calorie=(exerciseClassId=9.0 AND calorie=(-12.774, 638.7]) & exerciseClassId=(9.0) & exerciseClassId_and_duration=(exerciseClassId=9.0 AND duration=(-181.86, 9093.0]) & exerciseClassId_and_distance=(exerciseClassId=9.0 AND distance=(-1.156, 57.8])   \n",
       "16                          exerciseClassId_and_calorie=(exerciseClassId=9.0 AND calorie=(-12.774, 638.7]) & exerciseClassId_and_duration=(exerciseClassId=9.0 AND duration=(-181.86, 9093.0]) & exerciseClassId_and_distance=(exerciseClassId=9.0 AND distance=(-1.156, 57.8])   \n",
       "17                                                                                          exerciseClassId_and_duration=(exerciseClassId=9.0 AND duration=(-181.86, 9093.0]) & exerciseClassId_and_distance=(exerciseClassId=9.0 AND distance=(-1.156, 57.8]) & isExercise=(1)   \n",
       "18                                                                                                                                                                           exerciseClassId_and_duration=(exerciseClassId=9.0 AND duration=(-181.86, 9093.0]) & isExercise=(1)   \n",
       "\n",
       "   percentage  \n",
       "0      100.00  \n",
       "1      100.00  \n",
       "2      100.00  \n",
       "3      100.00  \n",
       "4      100.00  \n",
       "5       95.00  \n",
       "6       95.00  \n",
       "7       95.00  \n",
       "8       95.00  \n",
       "9       95.00  \n",
       "10      95.00  \n",
       "11      95.00  \n",
       "12      95.00  \n",
       "13      90.00  \n",
       "14      90.00  \n",
       "15      90.00  \n",
       "16      90.00  \n",
       "17      85.00  \n",
       "18      85.00  "
      ]
     },
     "metadata": {},
     "output_type": "display_data"
    },
    {
     "name": "stdout",
     "output_type": "stream",
     "text": [
      "==================================================\n",
      "[Cluster 10]\t28 periodic user(s)\n"
     ]
    },
    {
     "data": {
      "text/html": [
       "<div>\n",
       "<style scoped>\n",
       "    .dataframe tbody tr th:only-of-type {\n",
       "        vertical-align: middle;\n",
       "    }\n",
       "\n",
       "    .dataframe tbody tr th {\n",
       "        vertical-align: top;\n",
       "    }\n",
       "\n",
       "    .dataframe thead th {\n",
       "        text-align: right;\n",
       "    }\n",
       "</style>\n",
       "<table border=\"1\" class=\"dataframe\">\n",
       "  <thead>\n",
       "    <tr style=\"text-align: right;\">\n",
       "      <th></th>\n",
       "      <th>pattern</th>\n",
       "      <th>percentage</th>\n",
       "    </tr>\n",
       "  </thead>\n",
       "  <tbody>\n",
       "    <tr>\n",
       "      <th>0</th>\n",
       "      <td>isExercise=(0)</td>\n",
       "      <td>100.00</td>\n",
       "    </tr>\n",
       "  </tbody>\n",
       "</table>\n",
       "</div>"
      ],
      "text/plain": [
       "          pattern percentage\n",
       "0  isExercise=(0)     100.00"
      ]
     },
     "metadata": {},
     "output_type": "display_data"
    },
    {
     "data": {
      "text/html": [
       "<div>\n",
       "<style scoped>\n",
       "    .dataframe tbody tr th:only-of-type {\n",
       "        vertical-align: middle;\n",
       "    }\n",
       "\n",
       "    .dataframe tbody tr th {\n",
       "        vertical-align: top;\n",
       "    }\n",
       "\n",
       "    .dataframe thead th {\n",
       "        text-align: right;\n",
       "    }\n",
       "</style>\n",
       "<table border=\"1\" class=\"dataframe\">\n",
       "  <thead>\n",
       "    <tr style=\"text-align: right;\">\n",
       "      <th></th>\n",
       "      <th>pattern</th>\n",
       "      <th>percentage</th>\n",
       "    </tr>\n",
       "  </thead>\n",
       "  <tbody>\n",
       "    <tr>\n",
       "      <th>0</th>\n",
       "      <td>isExercise=(1)</td>\n",
       "      <td>100.00</td>\n",
       "    </tr>\n",
       "    <tr>\n",
       "      <th>1</th>\n",
       "      <td>isExercise=(0)</td>\n",
       "      <td>100.00</td>\n",
       "    </tr>\n",
       "  </tbody>\n",
       "</table>\n",
       "</div>"
      ],
      "text/plain": [
       "          pattern percentage\n",
       "0  isExercise=(1)     100.00\n",
       "1  isExercise=(0)     100.00"
      ]
     },
     "metadata": {},
     "output_type": "display_data"
    },
    {
     "name": "stdout",
     "output_type": "stream",
     "text": [
      "==================================================\n",
      "[Cluster 11]\t141 periodic user(s)\n"
     ]
    },
    {
     "data": {
      "text/html": [
       "<div>\n",
       "<style scoped>\n",
       "    .dataframe tbody tr th:only-of-type {\n",
       "        vertical-align: middle;\n",
       "    }\n",
       "\n",
       "    .dataframe tbody tr th {\n",
       "        vertical-align: top;\n",
       "    }\n",
       "\n",
       "    .dataframe thead th {\n",
       "        text-align: right;\n",
       "    }\n",
       "</style>\n",
       "<table border=\"1\" class=\"dataframe\">\n",
       "  <thead>\n",
       "    <tr style=\"text-align: right;\">\n",
       "      <th></th>\n",
       "      <th>pattern</th>\n",
       "      <th>percentage</th>\n",
       "    </tr>\n",
       "  </thead>\n",
       "  <tbody>\n",
       "    <tr>\n",
       "      <th>0</th>\n",
       "      <td>isExercise=(0)</td>\n",
       "      <td>100.00</td>\n",
       "    </tr>\n",
       "  </tbody>\n",
       "</table>\n",
       "</div>"
      ],
      "text/plain": [
       "          pattern percentage\n",
       "0  isExercise=(0)     100.00"
      ]
     },
     "metadata": {},
     "output_type": "display_data"
    },
    {
     "data": {
      "text/html": [
       "<div>\n",
       "<style scoped>\n",
       "    .dataframe tbody tr th:only-of-type {\n",
       "        vertical-align: middle;\n",
       "    }\n",
       "\n",
       "    .dataframe tbody tr th {\n",
       "        vertical-align: top;\n",
       "    }\n",
       "\n",
       "    .dataframe thead th {\n",
       "        text-align: right;\n",
       "    }\n",
       "</style>\n",
       "<table border=\"1\" class=\"dataframe\">\n",
       "  <thead>\n",
       "    <tr style=\"text-align: right;\">\n",
       "      <th></th>\n",
       "      <th>pattern</th>\n",
       "      <th>percentage</th>\n",
       "    </tr>\n",
       "  </thead>\n",
       "  <tbody>\n",
       "    <tr>\n",
       "      <th>0</th>\n",
       "      <td>isExercise=(0)</td>\n",
       "      <td>100.00</td>\n",
       "    </tr>\n",
       "  </tbody>\n",
       "</table>\n",
       "</div>"
      ],
      "text/plain": [
       "          pattern percentage\n",
       "0  isExercise=(0)     100.00"
      ]
     },
     "metadata": {},
     "output_type": "display_data"
    },
    {
     "name": "stdout",
     "output_type": "stream",
     "text": [
      "==================================================\n"
     ]
    }
   ],
   "source": [
    "pd.set_option('display.max_colwidth', 500)\n",
    "uem.show_cluster_chracteristics(threshold=11, criterion='maxclust', n_characteristics=20)"
   ]
  },
  {
   "cell_type": "code",
   "execution_count": null,
   "metadata": {},
   "outputs": [],
   "source": []
  }
 ],
 "metadata": {
  "kernelspec": {
   "display_name": "Python 3",
   "language": "python",
   "name": "python3"
  },
  "language_info": {
   "codemirror_mode": {
    "name": "ipython",
    "version": 3
   },
   "file_extension": ".py",
   "mimetype": "text/x-python",
   "name": "python",
   "nbconvert_exporter": "python",
   "pygments_lexer": "ipython3",
   "version": "3.6.4"
  }
 },
 "nbformat": 4,
 "nbformat_minor": 2
}
